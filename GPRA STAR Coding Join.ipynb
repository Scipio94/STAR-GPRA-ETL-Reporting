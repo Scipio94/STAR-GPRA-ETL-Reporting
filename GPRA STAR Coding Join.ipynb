{
 "cells": [
  {
   "cell_type": "markdown",
   "id": "3ceac960",
   "metadata": {},
   "source": [
    "# Data Joins\n",
    "Joing the multiple CSVs from the GPRA coding project due to the amount of pyton scripts fragmenting the data frame"
   ]
  },
  {
   "cell_type": "code",
   "execution_count": 1,
   "id": "b7955aa0",
   "metadata": {},
   "outputs": [],
   "source": [
    "# importing packages\n",
    "import pandas as pd\n",
    "from pandas import ExcelWriter\n",
    "import datetime as dt\n",
    "from datetime import datetime"
   ]
  },
  {
   "cell_type": "code",
   "execution_count": 2,
   "id": "40f8f9fe",
   "metadata": {
    "scrolled": true
   },
   "outputs": [],
   "source": [
    "#Importing data\n",
    "GPRA1 = pd.read_csv(r\"\\\\cdchomedir01\\home1\\tyogarro\\Jan GPRA\\GPRA1_STAR.csv\", parse_dates = ['InterviewDate'])\n",
    "GPRA2 = pd.read_csv(r\"\\\\cdchomedir01\\home1\\tyogarro\\Jan GPRA\\GPRA2_STAR.csv\")\n",
    "GPRA3 = pd.read_csv(r\"\\\\cdchomedir01\\home1\\tyogarro\\Jan GPRA\\GPRA3_STAR.csv\")\n",
    "GPRA4 = pd.read_csv(r\"\\\\cdchomedir01\\home1\\tyogarro\\Jan GPRA\\GPRA4_STAR.csv\")\n",
    "GPRA5 = pd.read_csv(r\"\\\\cdchomedir01\\home1\\tyogarro\\Jan GPRA\\GPRA5_STAR.csv\")\n",
    "GPRA6 = pd.read_csv(r\"\\\\cdchomedir01\\home1\\tyogarro\\Jan GPRA\\GPRA6_STAR.csv\")\n",
    "client_id = pd.read_excel(r\"W:\\Research and Evaluation\\STAR\\GPRA\\GPRA Client ID Master List_Full.xlsx\",sheet_name = 'List')\n"
   ]
  },
  {
   "cell_type": "code",
   "execution_count": 3,
   "id": "097e0b0c",
   "metadata": {},
   "outputs": [],
   "source": [
    "#Merging all of the GPRA files\n",
    "Full_GPRA_File = GPRA1.merge(GPRA2, on = 'ClientID', how = 'left')\\\n",
    "            .merge(GPRA3, on = 'ClientID', how = 'left')\\\n",
    "            .merge(GPRA4, on = 'ClientID', how = 'left')\\\n",
    "            .merge(GPRA5, on = 'ClientID', how = 'left')\\\n",
    "            .merge(GPRA6, on = 'ClientID', how = 'left')"
   ]
  },
  {
   "cell_type": "code",
   "execution_count": 4,
   "id": "715a8abe",
   "metadata": {},
   "outputs": [],
   "source": [
    "# dropping duplicates\n",
    "Full_GPRA_File = Full_GPRA_File.drop_duplicates()"
   ]
  },
  {
   "cell_type": "code",
   "execution_count": 5,
   "id": "4284c6ff",
   "metadata": {},
   "outputs": [],
   "source": [
    "#Adding ClientID\n",
    "client_id = client_id[['PATIENT','GPRA ID']] # <-Subsetting\n",
    "client_id.rename(columns = {'GPRA ID':'ClientID'}, inplace = True)"
   ]
  },
  {
   "cell_type": "code",
   "execution_count": 6,
   "id": "c360d263",
   "metadata": {},
   "outputs": [],
   "source": [
    "#Subsetting dataset for merge to create IntakeDate Column \n",
    "Intake_Date_Merge = Full_GPRA_File[['ClientID','InterviewType','InterviewDate']]\n",
    "\n",
    "#Filtering dataset for intake\n",
    "Intake_Date_Merge = Intake_Date_Merge[Intake_Date_Merge['InterviewType'] == 1]\n",
    "\n",
    "#Subsetting dataset further\n",
    "Intake_Date_Merge = Intake_Date_Merge[['ClientID', 'InterviewDate']]\n",
    "\n",
    "#Renaming columns\n",
    "Intake_Date_Merge.rename(columns = {'InterviewDate':'IntakeDate'}, inplace = True)\n",
    "\n",
    "#Merging files\n",
    "Full_GPRA_File_STAR = Full_GPRA_File.merge(Intake_Date_Merge, on= 'ClientID', how = 'left')\n",
    "\n",
    "# Merging file to return client_id\n",
    "Full_GPRA_File_STAR = Full_GPRA_File_STAR.merge(client_id, on = 'PATIENT', how = 'left') # <- returning ClientIDs\n",
    "\n",
    "Full_GPRA_File_STAR = Full_GPRA_File_STAR[Full_GPRA_File_STAR['PROVIDER_COUNTY'] != 'Monmouth'] # <- excluding Monmouth County"
   ]
  },
  {
   "cell_type": "code",
   "execution_count": 7,
   "id": "7ec2395b",
   "metadata": {},
   "outputs": [
    {
     "data": {
      "text/plain": [
       "array(['Middlesex', 'Essex', 'Hudson', nan], dtype=object)"
      ]
     },
     "execution_count": 7,
     "metadata": {},
     "output_type": "execute_result"
    }
   ],
   "source": [
    "# QA Provider County\n",
    "Full_GPRA_File_STAR['PROVIDER_COUNTY'].unique()"
   ]
  },
  {
   "cell_type": "markdown",
   "id": "b7bb889f",
   "metadata": {},
   "source": [
    "### Modify Current Upload Date Range"
   ]
  },
  {
   "cell_type": "code",
   "execution_count": 8,
   "id": "1b3d5df2",
   "metadata": {},
   "outputs": [],
   "source": [
    "Current_Upload = '_01.13.25-01.19.25_'\n",
    "## Next Upload: _01.20.25-01.26.25_"
   ]
  },
  {
   "cell_type": "code",
   "execution_count": 9,
   "id": "81397343",
   "metadata": {},
   "outputs": [],
   "source": [
    "# Date Filter for current date range and eliminating non interviews\n",
    "Full_GPRA_File_STAR = Full_GPRA_File_STAR[(Full_GPRA_File_STAR['InterviewDate']>='2025-01-13') & (Full_GPRA_File_STAR['ConductedInterview'] != 0)]\n"
   ]
  },
  {
   "cell_type": "code",
   "execution_count": 10,
   "id": "27dafa3c",
   "metadata": {},
   "outputs": [
    {
     "data": {
      "text/plain": [
       "array([1., 2.])"
      ]
     },
     "execution_count": 10,
     "metadata": {},
     "output_type": "execute_result"
    }
   ],
   "source": [
    "# QA Interview Types\n",
    "Full_GPRA_File_STAR['InterviewType'].unique()"
   ]
  },
  {
   "cell_type": "code",
   "execution_count": 11,
   "id": "9cf65e65",
   "metadata": {},
   "outputs": [],
   "source": [
    "# Subsetting file based on Interview Type\n",
    "STAR_Intakes = Full_GPRA_File_STAR[Full_GPRA_File_STAR['InterviewType']==1]\n",
    "STAR_Follow_Ups =Full_GPRA_File_STAR[Full_GPRA_File_STAR['InterviewType']==2]\n",
    "STAR_Discharges = Full_GPRA_File_STAR[Full_GPRA_File_STAR['InterviewType']==5]"
   ]
  },
  {
   "cell_type": "code",
   "execution_count": 12,
   "id": "e7d47b96",
   "metadata": {},
   "outputs": [],
   "source": [
    "# creating file path object\n",
    "current_upload_intakes ='STAR_BATCH_Upload'+Current_Upload+'Intakes.xlsx'\n",
    "current_upload_follow_ups ='STAR_BATCH_Upload'+Current_Upload+'Follow-Ups.xlsx'\n",
    "current_upload_discharges ='STAR_BATCH_Upload'+Current_Upload+'Discharges.xlsx'"
   ]
  },
  {
   "cell_type": "code",
   "execution_count": 13,
   "id": "bb68719f",
   "metadata": {},
   "outputs": [
    {
     "data": {
      "text/plain": [
       "array(['Essex', 'Hudson'], dtype=object)"
      ]
     },
     "execution_count": 13,
     "metadata": {},
     "output_type": "execute_result"
    }
   ],
   "source": [
    "# Counties of Current File\n",
    "STAR_Intakes['PROVIDER_COUNTY'].unique()"
   ]
  },
  {
   "cell_type": "markdown",
   "id": "eadca529",
   "metadata": {},
   "source": [
    "# [ExcelWriter](https://pandas.pydata.org/pandas-docs/stable/reference/api/pandas.ExcelWriter.html)\n",
    "\n",
    "Using ExcelWriter to create Excel files with multiple sheets based on the PROVIDER_COUNTY column for different interview types."
   ]
  },
  {
   "cell_type": "code",
   "execution_count": 14,
   "id": "1b321915",
   "metadata": {},
   "outputs": [],
   "source": [
    "# STAR Intakes\n",
    "intake_writer = ExcelWriter(current_upload_intakes) #--> creating intake excel file\n",
    "STAR_Intakes[STAR_Intakes['PROVIDER_COUNTY']=='Essex'].to_excel(intake_writer,'Essex_Intakes', index = False)\n",
    "STAR_Intakes[STAR_Intakes['PROVIDER_COUNTY']=='Hudson'].to_excel(intake_writer,'Hudson_Intakes', index = False)\n",
    "STAR_Intakes[STAR_Intakes['PROVIDER_COUNTY']=='Middlesex'].to_excel(intake_writer,'Middlesex_Intakes', index = False)\n",
    "intake_writer.close()\n"
   ]
  },
  {
   "cell_type": "code",
   "execution_count": 15,
   "id": "5d6ab1f8",
   "metadata": {},
   "outputs": [
    {
     "data": {
      "text/plain": [
       "array(['Essex'], dtype=object)"
      ]
     },
     "execution_count": 15,
     "metadata": {},
     "output_type": "execute_result"
    }
   ],
   "source": [
    "# Counties of Current File\n",
    "STAR_Follow_Ups['PROVIDER_COUNTY'].unique()"
   ]
  },
  {
   "cell_type": "code",
   "execution_count": 16,
   "id": "f4d3d279",
   "metadata": {},
   "outputs": [],
   "source": [
    "# STAR Follow-Ups\n",
    "follow_up_writer = ExcelWriter(current_upload_follow_ups) #--> creating follow-up excel file\n",
    "STAR_Follow_Ups[STAR_Follow_Ups['PROVIDER_COUNTY']=='Essex'].to_excel(follow_up_writer,'Essex_Follow-Ups', index = False)\n",
    "STAR_Follow_Ups[STAR_Follow_Ups['PROVIDER_COUNTY']== 'Hudson'].to_excel(follow_up_writer,'Hudson_Follow-Ups', index = False)\n",
    "STAR_Follow_Ups[STAR_Follow_Ups['PROVIDER_COUNTY']== 'Middlesex'].to_excel(follow_up_writer,'Middlesex_Follow-Ups', index = False)\n",
    "follow_up_writer.close()"
   ]
  },
  {
   "cell_type": "code",
   "execution_count": 17,
   "id": "fbfd5bd7",
   "metadata": {},
   "outputs": [
    {
     "data": {
      "text/plain": [
       "array([], dtype=object)"
      ]
     },
     "execution_count": 17,
     "metadata": {},
     "output_type": "execute_result"
    }
   ],
   "source": [
    "# Counties of Current File\n",
    "STAR_Discharges['PROVIDER_COUNTY'].unique()"
   ]
  },
  {
   "cell_type": "code",
   "execution_count": 18,
   "id": "15dcf683",
   "metadata": {},
   "outputs": [],
   "source": [
    "discharge_writer = ExcelWriter(current_upload_discharges) #--> creating follow-up excel file\n",
    "STAR_Discharges[STAR_Discharges['PROVIDER_COUNTY']=='Essex'].to_excel(discharge_writer,'Essex_Discharges', index = False)\n",
    "STAR_Discharges[STAR_Discharges['PROVIDER_COUNTY']== 'Hudson'].to_excel(discharge_writer,'Hudson_Discharges', index = False)\n",
    "STAR_Discharges[STAR_Discharges['PROVIDER_COUNTY']== 'Middlesex'].to_excel(discharge_writer,'Middlesex_Discharges', index = False)\n",
    "discharge_writer.close()"
   ]
  }
 ],
 "metadata": {
  "kernelspec": {
   "display_name": "Python 3 (ipykernel)",
   "language": "python",
   "name": "python3"
  },
  "language_info": {
   "codemirror_mode": {
    "name": "ipython",
    "version": 3
   },
   "file_extension": ".py",
   "mimetype": "text/x-python",
   "name": "python",
   "nbconvert_exporter": "python",
   "pygments_lexer": "ipython3",
   "version": "3.11.4"
  }
 },
 "nbformat": 4,
 "nbformat_minor": 5
}
