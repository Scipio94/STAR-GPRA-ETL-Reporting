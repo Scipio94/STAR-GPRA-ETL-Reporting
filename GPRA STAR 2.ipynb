{
 "cells": [
  {
   "cell_type": "markdown",
   "id": "2498c9fd",
   "metadata": {},
   "source": [
    "# GRPA Coding\n",
    "\n",
    "Goverment Perfromance and Results Act (GPRA) coding for intake data of recovery specialist for the Institure for Prevention and Recovery (IFPR) at RWJ Baranabas"
   ]
  },
  {
   "cell_type": "code",
   "execution_count": 1,
   "id": "7e487610",
   "metadata": {},
   "outputs": [],
   "source": [
    "#importing pandas\n",
    "import pandas as pd\n",
    "import numpy as np"
   ]
  },
  {
   "cell_type": "code",
   "execution_count": 2,
   "id": "e9ffe513",
   "metadata": {},
   "outputs": [],
   "source": [
    "# importing data and parsing datetime columns\n",
    "df = pd.read_csv(r\"\\\\cdchomedir01\\home1\\tyogarro\\Jan GPRA\\GPRA_Coding_File.csv\", parse_dates = ['ADMIT_DT','FORM_DTTM',\n",
    "                                                                                                'FORM_UPDATE_DTTM'])\n",
    "\n",
    "#subsetting to include Peer Recovery Program episodes\n",
    "df = df[df['EPISODE'] =='IFPR - STAR Program'].sort_values(by = ['FORM_DTTM','MRN']) # <- sorting df"
   ]
  },
  {
   "cell_type": "code",
   "execution_count": 3,
   "id": "fd102e79",
   "metadata": {},
   "outputs": [],
   "source": [
    "#Renaming column to create ClientID\n",
    "df.rename(columns = {'CSN':'ClientID'}, inplace = True)\n",
    "df['ClientID'] = df['ClientID'].str.split(',').str[0]"
   ]
  },
  {
   "cell_type": "code",
   "execution_count": 4,
   "id": "77d83435",
   "metadata": {},
   "outputs": [],
   "source": [
    "#function for days columns that exceed 30 days\n",
    "def exceed_thirty_days(x):\n",
    "    if x > 30:\n",
    "        return 30\n",
    "    else:\n",
    "        return x"
   ]
  },
  {
   "cell_type": "markdown",
   "id": "4c9a75b3",
   "metadata": {},
   "source": [
    "## Creating GPRA 2"
   ]
  },
  {
   "cell_type": "code",
   "execution_count": 5,
   "id": "28951a50",
   "metadata": {},
   "outputs": [],
   "source": [
    "#Renaming column\n",
    "df.rename(columns = {'DEMEROL_NUMBER_OF_DAYS':'OpioidsDemerolDays'}, inplace = True)\n",
    "\n",
    "#Replacing nulll values with 0 to create values for column OpioidsDemerolDays\n",
    "df['OpioidsDemerolDays'] = df['OpioidsDemerolDays'].fillna(0)"
   ]
  },
  {
   "cell_type": "code",
   "execution_count": 6,
   "id": "5296f801",
   "metadata": {},
   "outputs": [],
   "source": [
    "#Creating function to create new column OpioidsDemerolRoute\n",
    "def Demerol_Route (row):\n",
    "    if row['DEMEROL_ROUTE'] == '1. Oral':\n",
    "        return 1\n",
    "    elif row['OpioidsDemerolDays']==0:\n",
    "        return -1\n",
    "#Applying function to create column OpioidsDemerolRoute via applying function Demerol_Route    \n",
    "df['OpioidsDemerolRoute'] = df.apply(Demerol_Route, axis = 1)"
   ]
  },
  {
   "cell_type": "code",
   "execution_count": 7,
   "id": "9cf6e7a0",
   "metadata": {},
   "outputs": [],
   "source": [
    "#Renaming column \n",
    "df.rename(columns = {'PERCOCET_NUMBER_OF_DAYS':'OpioidsPercocetDays'}, inplace = True)\n",
    "\n",
    "#Replacing null values with 0 to create column OpioidsPercocetDays\n",
    "df['OpioidsPercocetDays'] = df['OpioidsPercocetDays'].fillna(0)\n",
    "\n",
    "df['OpioidsPercocetDays'] = df['OpioidsPercocetDays'].apply(lambda x:exceed_thirty_days(x))"
   ]
  },
  {
   "cell_type": "code",
   "execution_count": 8,
   "id": "b671a7ef",
   "metadata": {},
   "outputs": [],
   "source": [
    "#Creating function to create column OpioidsPercocetRoute\n",
    "def Percocet_Route (row):\n",
    "    if row['PERCOCET_ROUTE'] == '1. Oral':\n",
    "        return 1\n",
    "    elif row['PERCOCET_ROUTE'] == '2. Intranasal':\n",
    "        return 2\n",
    "    elif row['OpioidsPercocetDays'] == 0:\n",
    "        return -1\n",
    "    else:\n",
    "        return -1\n",
    "    \n",
    "#Creating new column OpioidsPercocetRoute via applying the function Percocet_Route\n",
    "df['OpioidsPercocetRoute'] = df.apply(Percocet_Route,axis =1) "
   ]
  },
  {
   "cell_type": "code",
   "execution_count": 9,
   "id": "d44dc1f1",
   "metadata": {},
   "outputs": [],
   "source": [
    "#Renaming column\n",
    "df.rename(columns = {'CODEINE_NUMBER_OF_DAYS':'OpioidsCodeineDays'}, inplace = True)\n",
    "\n",
    "#Replacing null values with 0 to create column OpioidsCodeineDays\n",
    "df['OpioidsCodeineDays'] = df['OpioidsCodeineDays'].fillna(0)\n",
    "\n",
    "df['OpioidsCodeineDays'] = df['OpioidsCodeineDays'].apply(lambda x:exceed_thirty_days(x))"
   ]
  },
  {
   "cell_type": "code",
   "execution_count": 10,
   "id": "6d6242c0",
   "metadata": {},
   "outputs": [],
   "source": [
    "#Creating function to create column OpioidsCodeineRoute\n",
    "def Codeine_Route (row):\n",
    "    if row['CODEINE_ROUTE'] == '1. Oral':\n",
    "        return 1\n",
    "    elif row['OpioidsCodeineDays'] == 0:\n",
    "        return -1\n",
    "    else:\n",
    "        return -1\n",
    "    \n",
    "#Creating new column -OpioidsCodeineRoute via applying the function Codeine_Route\n",
    "df['OpioidsCodeineRoute'] = df.apply(Codeine_Route, axis = 1)"
   ]
  },
  {
   "cell_type": "code",
   "execution_count": 11,
   "id": "4b2042a4",
   "metadata": {},
   "outputs": [],
   "source": [
    "#Renaming columns\n",
    "df.rename(columns = {'TYLENOL_2_3_4_NUMBER_OF_DAYS':'OpioidsTylenolDays', 'TYLENOL_2_3_4_ROUTE':'OpioidsTylenolRoute' ,'OXYCONTIN_OXYCODONE_NUMBER_OF_DAYS':'OpioidsOxycoDays' },inplace = True)\n",
    "\n",
    "df['OpioidsOxycoDays'] = df['OpioidsOxycoDays'].apply(lambda x:exceed_thirty_days(x))\n",
    "df['OpioidsOxycoDays'] = df['OpioidsOxycoDays'].fillna (0)\n",
    "df['OpioidsTylenolDays'] = df['OpioidsTylenolDays'].apply(lambda x:exceed_thirty_days(x))\n",
    "df['OpioidsTylenolDays'] = df['OpioidsTylenolDays'].fillna (0)\n",
    "df['OpioidsTylenolRoute'] = df['OpioidsTylenolRoute'].fillna(-1)"
   ]
  },
  {
   "cell_type": "code",
   "execution_count": 12,
   "id": "5763c2ba",
   "metadata": {},
   "outputs": [],
   "source": [
    "#Creating function to create new column OpioidsOxycoRoute\n",
    "def Oxyco_Route (row):\n",
    "    if row['OXYCONTIN_OXYCODONE_ROUTE'] == '1. Oral':\n",
    "        return 1\n",
    "    elif ['OpioidsOxycoDays'] == 0:\n",
    "        return -1\n",
    "    else:\n",
    "        return -1\n",
    "    \n",
    "#Creating new column OpioidsOxycoRoute via applying the function Oxyco_Route\n",
    "df['OpioidsOxycoRoute'] = df.apply(Oxyco_Route, axis = 1)"
   ]
  },
  {
   "cell_type": "code",
   "execution_count": 13,
   "id": "c7b88570",
   "metadata": {},
   "outputs": [],
   "source": [
    "#Renaming column to create column OpioidsNonPresMethadoneDays\n",
    "df.rename(columns = {'NON_PRESCRIPTION_METHADONE_NUMBER_OF_DAYS':'OpioidsNonPresMethadoneDays'}, inplace = True)\n",
    "\n",
    "df['OpioidsNonPresMethadoneDays'] = df['OpioidsNonPresMethadoneDays'].fillna(0) \n",
    "df['OpioidsNonPresMethadoneDays'] = df['OpioidsNonPresMethadoneDays'].apply(lambda x: exceed_thirty_days(x))"
   ]
  },
  {
   "cell_type": "code",
   "execution_count": 14,
   "id": "c26f0d1c",
   "metadata": {},
   "outputs": [],
   "source": [
    "#Creating function to create new column OpioidsNonPresMethadoneRoute\n",
    "def NonPres_Methadone (row):\n",
    "    if row['NON_PRESCRIPTION_METHADONE_ROUTE'] == '1. Oral':\n",
    "        return 1\n",
    "    elif row['OpioidsNonPresMethadoneDays'] ==0:\n",
    "        return -1 \n",
    "    else:\n",
    "        return -1\n",
    "\n",
    "#Creating new column OpioidsNonPresMethadoneRoute via applying the function NonPres_Methadone\n",
    "df['OpioidsNonPresMethadoneRoute'] = df.apply(NonPres_Methadone, axis = 1)"
   ]
  },
  {
   "cell_type": "code",
   "execution_count": 15,
   "id": "dbce5254",
   "metadata": {},
   "outputs": [],
   "source": [
    "#Renaming column to create column OpioidsNonPresBupDays\n",
    "df.rename(columns = {'NON_PRESCRIPTION_BUPRENORPHINE_NUMBER_OF_DAYS':'OpioidsNonPresBupDays'}, inplace = True)\n",
    "\n",
    "#Replacing null values with 0\n",
    "df['OpioidsNonPresBupDays'] = df['OpioidsNonPresBupDays'].fillna(0)\n",
    "df['OpioidsNonPresBupDays'] = df['OpioidsNonPresBupDays'].apply(lambda x:exceed_thirty_days(x))"
   ]
  },
  {
   "cell_type": "code",
   "execution_count": 16,
   "id": "3add3be1",
   "metadata": {},
   "outputs": [],
   "source": [
    "#Creating function to create column OpioidsNonPresBupRoute\n",
    "def Non_Pres_Bup_Route (row):\n",
    "    if row['NON_PRESCRIPTION_BUPRENORPHINE_ROUTE'] == '1. Oral':\n",
    "        return 1\n",
    "    elif row['OpioidsNonPresBupDays'] ==0:\n",
    "        return -1\n",
    "    else:\n",
    "        return -1\n",
    "    \n",
    "#Creating new column OpioidsNonPresBupRoute via applying function Non_Pres_Bup_Route\n",
    "df['OpioidsNonPresBupRoute'] = df.apply(Non_Pres_Bup_Route, axis = 1)"
   ]
  },
  {
   "cell_type": "code",
   "execution_count": 17,
   "id": "57039401",
   "metadata": {},
   "outputs": [],
   "source": [
    "#Rename column to create colun OpioidsOther1Days\n",
    "df.rename(columns = {'OPIOIDS_OTHER_NUMBER_OF_DAYS':'OpioidsOther1Days'}, inplace = True)\n",
    "\n",
    "#Replacing null values \n",
    "df['OpioidsOther1Days'] = df['OpioidsOther1Days'].fillna(0)\n",
    "df['OpioidsOther1Days'] = df['OpioidsOther1Days'].apply(lambda x:exceed_thirty_days(x))"
   ]
  },
  {
   "cell_type": "code",
   "execution_count": 18,
   "id": "d840a2b2",
   "metadata": {},
   "outputs": [],
   "source": [
    "#Creating function to create column OpioidsOther1Route\n",
    "def Opioids_Other_Route (row):\n",
    "    if row['OPIOIDS_OTHER_ROUTE'] == '1. Oral':\n",
    "        return 1\n",
    "    elif row['OpioidsOther1Days'] ==0:\n",
    "        return -1\n",
    "    else:\n",
    "        return -1\n",
    "    \n",
    "#Creating new column OpioidsOther1Route via applying the function Opioids_Other_Route\n",
    "df['OpioidsOther1Route'] = df.apply(Opioids_Other_Route,axis = 1)"
   ]
  },
  {
   "cell_type": "code",
   "execution_count": 19,
   "id": "2a14753a",
   "metadata": {},
   "outputs": [],
   "source": [
    "#Renaming column to create column OpioidsOther1Spec\n",
    "df.rename(columns = {'OPIOIDS_OTHER':'OpioidsOther1Spec'}, inplace = True)\n",
    "\n",
    "#Renaming column OPIOIDS_OTHER to create column OpioidsOther1Spec\n",
    "df['OpioidsOther1Spec'] = df['OpioidsOther1Spec'].str.title()"
   ]
  },
  {
   "cell_type": "code",
   "execution_count": 20,
   "id": "9604a54b",
   "metadata": {},
   "outputs": [],
   "source": [
    "#Creating blank columns\n",
    "df['OpioidsOther2Days'] = 0\n",
    "df['OpioidsOther2Route'] = -1\n",
    "df['OpioidsOther2Spec'] = \" \"\n",
    "df['OpioidsOther3Days'] = 0\n",
    "df['OpioidsOther3Route'] = -1\n",
    "df['OpioidsOther3Spec'] = \" \""
   ]
  },
  {
   "cell_type": "code",
   "execution_count": 21,
   "id": "fc0defb0",
   "metadata": {
    "scrolled": true
   },
   "outputs": [],
   "source": [
    "#Renaming column to create column MarijuanaDays\n",
    "df.rename(columns = {'CANNABIS_MARIJUANA_NUMBER_OF_DAYS':'MarijuanaDays'}, inplace = True)\n",
    "\n",
    "#Replacing null values with 0\n",
    "df['MarijuanaDays'] = df['MarijuanaDays'].fillna(0)\n",
    "df['MarijuanaDays'] = df['MarijuanaDays'].apply(lambda x:exceed_thirty_days(x))"
   ]
  },
  {
   "cell_type": "code",
   "execution_count": 22,
   "id": "6c345313",
   "metadata": {},
   "outputs": [],
   "source": [
    "#Creating substrings\n",
    "df['CANNABIS_MARIJUANA_ROUTE'] = df['CANNABIS_MARIJUANA_ROUTE'].str.split(',').str[0]\n",
    "\n",
    "#Creating function to create column MarijuanaRoute\n",
    "def Marijuana_Route (row):\n",
    "    if row['CANNABIS_MARIJUANA_ROUTE'] == '1. Oral':\n",
    "        return 1\n",
    "    elif row['CANNABIS_MARIJUANA_ROUTE'] == '4. Smoking':\n",
    "        return 3\n",
    "    elif row['CANNABIS_MARIJUANA_ROUTE'] == '3. Vaping':\n",
    "        return 6\n",
    "    elif row['CANNABIS_MARIJUANA_ROUTE'] == '0. Other':\n",
    "        return 0\n",
    "    elif row['MarijuanaDays'] ==0:\n",
    "        return -1\n",
    "    else:\n",
    "        return -1\n",
    "\n",
    "#Creating new column MarijuanaRoute via applying the function Marijuana_Route\n",
    "df['MarijuanaRoute'] = df.apply(Marijuana_Route, axis = 1)"
   ]
  },
  {
   "cell_type": "code",
   "execution_count": 23,
   "id": "7533e083",
   "metadata": {},
   "outputs": [],
   "source": [
    "#Renaming to create column SynthCannDays\n",
    "df.rename(columns = {'SYNTHETIC_CANNABINOIDS_NUMBER_OF_DAYS':'SynthCannDays'}, inplace = True)\n",
    "\n",
    "#Replacing null values with 0\n",
    "df['SynthCannDays'] = df['SynthCannDays'].fillna(0)\n",
    "df['SynthCannDays'] = df['SynthCannDays'].apply(lambda x: exceed_thirty_days(x))"
   ]
  },
  {
   "cell_type": "code",
   "execution_count": 24,
   "id": "26c97966",
   "metadata": {},
   "outputs": [],
   "source": [
    "#Creating function for column SynthCannRoute\n",
    "def Syn_Can_Route(row):\n",
    "    if row['SYNTHETIC_CANNABINOIDS_ROUTE'] == '4. Smoking':\n",
    "        return 1\n",
    "    elif row['SynthCannDays'] == 0:\n",
    "        return -1\n",
    "    else:\n",
    "        return -1\n",
    "\n",
    "#Creating column SynthCannRoute via applying the function Syn_Can_Route\n",
    "df['SynthCannRoute'] = df.apply(Syn_Can_Route, axis =1 )"
   ]
  },
  {
   "cell_type": "code",
   "execution_count": 25,
   "id": "2dacf996",
   "metadata": {},
   "outputs": [],
   "source": [
    "#Renaming column to create column CannOther1Days\n",
    "df.rename(columns = {'CANNABIS_OTHER_NUMBER_OF_DAYS':'CannOther1Days'}, inplace = True)\n",
    "\n",
    "#Replacing null values with 0 to create column CannOther1Days\n",
    "df['CannOther1Days'] = df['CannOther1Days'].fillna(0)\n",
    "df['CannOther1Days'] = df['CannOther1Days'].apply(lambda x:exceed_thirty_days(x))"
   ]
  },
  {
   "cell_type": "code",
   "execution_count": 26,
   "id": "c6acab80",
   "metadata": {},
   "outputs": [],
   "source": [
    "#Creating function to create column CannOther1Route\n",
    "def Can_Other_Route (row):\n",
    "    if row['CANNABIS_OTHER_ROUTE'] == '1. Oral':\n",
    "        return 1\n",
    "    elif row['CANNABIS_OTHER_ROUTE'] == '4. Smoking':\n",
    "        return 3\n",
    "    elif row['CannOther1Days'] == 0:\n",
    "        return -1\n",
    "    else:\n",
    "        return -1\n",
    "\n",
    "#Creating column CannOther1Route via applying the function Can_Other_Route\n",
    "df['CannOther1Route'] = df.apply(Can_Other_Route,axis = 1)"
   ]
  },
  {
   "cell_type": "code",
   "execution_count": 27,
   "id": "c4538c34",
   "metadata": {},
   "outputs": [],
   "source": [
    "#Renaming to column to create column CannOther1Spec\n",
    "df.rename(columns = {'CANNABIS_OTHER':'CannOther1Spec'}, inplace = True)\n",
    "\n",
    "#Changing the column name to create new column CannOther1Spec\n",
    "# df['CannOther1Spec'] = df['CannOther1Spec'].str.title()"
   ]
  },
  {
   "cell_type": "code",
   "execution_count": 28,
   "id": "392fe666",
   "metadata": {},
   "outputs": [],
   "source": [
    "#Creating columns with blank values\n",
    "df['CannOther2Days'] = 0\n",
    "df['CannOther2Route'] = -1\n",
    "df['CannOther2Spec'] = \" \"\n",
    "df['CannOther3Days'] = 0\n",
    "df['CannOther3Route'] = -1\n",
    "df['CannOther3Spec'] = \" \""
   ]
  },
  {
   "cell_type": "code",
   "execution_count": 29,
   "id": "88519410",
   "metadata": {},
   "outputs": [],
   "source": [
    "#Renaming column to create column SedativeDays\n",
    "df.rename(columns = {'SEDATIVES_NUMBER_OF_DAYS':'SedativeDays'}, inplace = True )\n",
    "\n",
    "#Replacing missing values to create column SedativeDays\n",
    "df['SedativeDays'] = df['SedativeDays'].fillna(0)\n",
    "df['SedativeDays'] = df['SedativeDays'].apply(lambda x:exceed_thirty_days(x))"
   ]
  },
  {
   "cell_type": "code",
   "execution_count": 30,
   "id": "19763659",
   "metadata": {},
   "outputs": [],
   "source": [
    "#Creating function to create column SedativeRoute\n",
    "def Sedative_Route (row):\n",
    "    if row['SEDATIVES_ROUTE'] == '1. Oral':\n",
    "        return 1\n",
    "    elif row['SedativeDays'] ==0:\n",
    "        return -1\n",
    "\n",
    "#Creating column SedativeRoute via applying the function Sedative_Route\n",
    "df['SedativeRoute'] = df.apply(Sedative_Route, axis = 1)"
   ]
  },
  {
   "cell_type": "code",
   "execution_count": 31,
   "id": "5104d225",
   "metadata": {},
   "outputs": [],
   "source": [
    "#Renaming columns to create column HypnoDays\n",
    "df.rename(columns = {'HYPNOTICS_NUMBER_OF_DAYS':'HypnoDays'}, inplace = True)\n",
    "\n",
    "# Replacing null values with 0\n",
    "df['HypnoDays'] = df['HypnoDays'].fillna(0)\n",
    "df['HypnoDays'] = df['HypnoDays'].apply(lambda x:exceed_thirty_days(x))"
   ]
  },
  {
   "cell_type": "code",
   "execution_count": 32,
   "id": "c0a81d3f",
   "metadata": {},
   "outputs": [],
   "source": [
    "#Creating function to create column HypnoRoute\n",
    "def Hyp_Route (row):\n",
    "    if row['HYPNOTICS_ROUTE'] == '1. Oral':\n",
    "        return 1\n",
    "    elif row['HypnoDays']==0:\n",
    "        return -1\n",
    "    else:\n",
    "        return -1\n",
    "\n",
    "#Creating column HypnoRoute via applying the function Hyp_Route\n",
    "df['HypnoRoute'] = df.apply(Hyp_Route, axis = 1)"
   ]
  },
  {
   "cell_type": "code",
   "execution_count": 33,
   "id": "e17d1e00",
   "metadata": {},
   "outputs": [],
   "source": [
    "#Creating dictionary to renaming columns\n",
    "dictionary = {'BARBITUATES_NUMBER_OF_DAYS':'BarbituratesDays',   \n",
    "              'BARBITUATES_ROUTE':'BarbituratesRoute',\n",
    "              'ANXIOLYTICS_BENZODIAZEPINES_NUMBER_OF_DAYS':'AnxioBenzoDays', \n",
    "              'SEDATIVES_OTHER_NUMBER_OF_DAYS':'SedHypOther1Days', \n",
    "             'SEDATIVES_OTHER_ROUTE':'SedHypOther1Route',\n",
    "             'SEDATIVES_OTHER':'SedHypOther1Spec'}\n",
    "\n",
    "#Renaming columns \n",
    "df.rename(columns = dictionary, inplace = True)\n",
    "\n",
    "#Creating variable to replace null variables\n",
    "days_cols = ['BarbituratesDays','AnxioBenzoDays','SedHypOther1Days']\n",
    "route_cols = ['BarbituratesRoute','SedHypOther1Route']\n",
    "\n",
    "df[days_cols] = df[days_cols].fillna(0)\n",
    "df[route_cols] = df[route_cols].fillna(-1)\n",
    "\n",
    "def SedHypOther1Route(row):\n",
    "    if row['SedHypOther1Route'] == '1. Oral':\n",
    "        return 1\n",
    "    else:\n",
    "        return row['SedHypOther1Route']\n",
    "    \n",
    "df['SedHypOther1Route'] = df.apply(SedHypOther1Route, axis = 1)"
   ]
  },
  {
   "cell_type": "code",
   "execution_count": 34,
   "id": "98e4baa1",
   "metadata": {},
   "outputs": [],
   "source": [
    "#Creating a function to create column AnxioBenzoRoute\n",
    "df['ANXIOLYTICS_BENZODIAZEPINES_ROUTE'] = df['ANXIOLYTICS_BENZODIAZEPINES_ROUTE'].str.split(',').str[0]\n",
    "\n",
    "def Anxio_Benzo_Route (row):\n",
    "    if row['ANXIOLYTICS_BENZODIAZEPINES_ROUTE'] == '1. Oral':\n",
    "        return 1\n",
    "    elif row['ANXIOLYTICS_BENZODIAZEPINES_ROUTE'] =='4. Smoking':\n",
    "        return 3\n",
    "    elif row['AnxioBenzoDays'] == 0:\n",
    "        return -1\n",
    "    else:\n",
    "        return -1\n",
    "\n",
    "#Creating column AnxioBenzoRoute via applying the function Anxio_Benzo_Route\n",
    "df['AnxioBenzoRoute'] = df.apply(Anxio_Benzo_Route, axis = 1)"
   ]
  },
  {
   "cell_type": "code",
   "execution_count": 35,
   "id": "2bcd33d8",
   "metadata": {},
   "outputs": [],
   "source": [
    "#Creating column with blank values\n",
    "df['SedHypOther2Days'] = 0\n",
    "df['SedHypOther2Route'] = -1\n",
    "df['SedHypOther2Spec'] = \" \"\n",
    "df['SedHypOther3Days'] = 0\n",
    "df['SedHypOther3Route'] = -1\n",
    "df['SedHypOther3Spec'] = \" \""
   ]
  },
  {
   "cell_type": "code",
   "execution_count": 36,
   "id": "7c65c57a",
   "metadata": {},
   "outputs": [],
   "source": [
    "#Creating dictionary to rename columns \n",
    "dictionary2 = {'COCAINE_NUMBER_OF_DAYS':'CocaineDays', \n",
    "               'CRACK_NUMBER_OF_DAYS':'CrackDays', \n",
    "               'COCAINE_OTHER_NUMBER_OF_DAYS':'CocaineOther1Days',  \n",
    "               'COCAINE_OTHER_ROUTE':'CocaineOther1Route',  \n",
    "               'COCAINE_OTHER':'CocaineOther1Spec' }\n",
    "\n",
    "#Renaming columns\n",
    "df.rename(columns = dictionary2, inplace = True)\n",
    "\n",
    "# Creating variable to replace null values\n",
    "days_cols2 = ['CocaineDays', 'CrackDays', 'CocaineOther1Days',]\n",
    "\n",
    "#Replacing null values \n",
    "df[days_cols2] = df[days_cols2 ].fillna(0)\n",
    "df['CocaineOther1Route'] = df['CocaineOther1Route'].fillna(-1)\n",
    "\n",
    "#Replacing values over 30 with 30 \n",
    "df['CrackDays'] = df['CrackDays'].apply(lambda x: exceed_thirty_days(x))"
   ]
  },
  {
   "cell_type": "code",
   "execution_count": 37,
   "id": "2e8f172e",
   "metadata": {},
   "outputs": [],
   "source": [
    "#Creating substrings \n",
    "df['COCAINE_ROUTE'] = df['COCAINE_ROUTE'].str.split(',').str[0]\n",
    "\n",
    "#Creating function to create column CocaineRoute\n",
    "def Cocaine_Route (row):\n",
    "    if row['COCAINE_ROUTE'] == '0. Other':\n",
    "        return 0\n",
    "    elif row['COCAINE_ROUTE'] == '1. Oral':\n",
    "        return 1\n",
    "    elif row['COCAINE_ROUTE'] == '2. Intranasal':\n",
    "        return 2\n",
    "    elif row['COCAINE_ROUTE'] == '4. Smoking':\n",
    "        return 3\n",
    "    elif row['COCAINE_ROUTE'] == '6. Intravenous (IV) Injection':\n",
    "        return 5\n",
    "    elif row['CocaineDays'] == 0:\n",
    "        return -1\n",
    "    else:\n",
    "        return -1\n",
    "    \n",
    "#Creating column CocaineRoute via applying the function Cocaine_Route\n",
    "df['CocaineRoute'] = df.apply(Cocaine_Route,axis = 1)"
   ]
  },
  {
   "cell_type": "code",
   "execution_count": 38,
   "id": "7d544b58",
   "metadata": {},
   "outputs": [],
   "source": [
    "#Creating function to create the column CrackRoute\n",
    "def Crack_Route (row):\n",
    "    if row['CRACK_ROUTE'] == '2. Intranasal':\n",
    "        return 2\n",
    "    elif row['CRACK_ROUTE'] == '4. Smoking':\n",
    "        return 3\n",
    "    elif row['CrackDays'] == 0:\n",
    "        return -1\n",
    "    else:\n",
    "        return -1\n",
    "#Creating column CrackRoute via applying the function Crack_Route\n",
    "df['CrackRoute'] = df.apply(Crack_Route, axis = 1)"
   ]
  },
  {
   "cell_type": "code",
   "execution_count": 39,
   "id": "a3ba2e53",
   "metadata": {},
   "outputs": [],
   "source": [
    "#Creating blank columns\n",
    "df['CocaineOther2Days'] = 0\n",
    "df['CocaineOther2Route'] = -1\n",
    "df['CocaineOther2Spec'] = \" \"\n",
    "df['CocaineOther3Days'] = 0\n",
    "df['CocaineOther3Route'] = -1\n",
    "df['CocaineOther3Spec'] = \" \""
   ]
  },
  {
   "cell_type": "code",
   "execution_count": 40,
   "id": "708e86f4",
   "metadata": {},
   "outputs": [],
   "source": [
    "#Create a dictionary to rename columns above .rename function\n",
    "col_rename = { 'METHAMPHETAMINE_NUMBER_OF_DAYS':'MethamDays',\n",
    "            'STIMULANT_MEDICATIONS_NUMBER_OF_DAYS':'StimMedsDays',  \n",
    "            'STIMULANTS_OTHER_NUMBER_OF_DAYS':'StimsOther1Days', \n",
    "            'STIMULANTS_OTHER':'StimsOther1Spec', \n",
    "            'PCP_NUMBER_OF_DAYS':'PCPDays', \n",
    "            'MDMA_NUMBER_OF_DAYS':'MDMADays', \n",
    "            'LSD_NUMBER_OF_DAYS':'LSDDays',\n",
    "            'MESCALINE_NUMBER_OF_DAYS':'MescalineDays', \n",
    "            'MESCALINE_ROUTE':'MescalineRoute',\n",
    "            'SALVIA_NUMBER_OF_DAYS':'SalviaDays',\n",
    "            'SALVIA_ROUTE':'SalviaRoute',\n",
    "            'DMT_NUMBER_OF_DAYS':'DMTDays',\n",
    "            'DMT_ROUTE':'DMTRoute',\n",
    "            'HALLUCINOGENS_OTHER_NUMBER_OF_DAYS':'HalluPsychOther1Days',\n",
    "            'HALLUCINOGENS_OTHER_ROUTE':'HalluPsychOther1Route',\n",
    "            'HALLUCINOGENS_OTHER':'HalluPsychOther1Spec'}\n",
    "\n",
    "#Renaming columns\n",
    "df.rename(columns = col_rename,inplace = True)\n",
    "\n",
    "#Creating variables to replace null values\n",
    "days_col5 = ['MethamDays', 'StimMedsDays', 'StimsOther1Days', \n",
    "              'PCPDays', 'MDMADays','LSDDays','MescalineDays',\n",
    "             'SalviaDays', 'DMTDays','HalluPsychOther1Days']\n",
    "\n",
    "route_cols5 = ['HalluPsychOther1Route','MescalineRoute',\n",
    "              'SalviaRoute','DMTRoute']\n",
    "\n",
    "#Replacing null values with 0\n",
    "df[days_col5] = df[days_col5].fillna(0)\n",
    "df[route_cols5] = df[route_cols5].fillna(-1)"
   ]
  },
  {
   "cell_type": "code",
   "execution_count": 41,
   "id": "b3e57c4e",
   "metadata": {},
   "outputs": [],
   "source": [
    "#Creating function to create column MethamRoute\n",
    "def Metham_Route (row):\n",
    "    if row['METHAMPHETAMINE_ROUTE'] == '2. Intranasal':\n",
    "        return 2\n",
    "    elif row['METHAMPHETAMINE_ROUTE'] == '4. Smoking':\n",
    "        return 3\n",
    "    elif row['MethamDays'] == 0:\n",
    "        return -1\n",
    "    else:\n",
    "        return -1\n",
    "\n",
    "#Creating column MethamDays via applying the function Metham_Days\n",
    "df['MethamRoute'] = df.apply(Metham_Route, axis = 1)"
   ]
  },
  {
   "cell_type": "code",
   "execution_count": 42,
   "id": "b02ab341",
   "metadata": {},
   "outputs": [],
   "source": [
    "#Creating function to create column StimMedsRoute\n",
    "def Stim_Meds_Route (row):\n",
    "    if row['STIMULANT_MEDICATIONS_ROUTE'] == '1. Oral':\n",
    "        return 1\n",
    "    elif row['StimMedsDays'] == 0:\n",
    "        return -1\n",
    "    else:\n",
    "        return -1\n",
    "    \n",
    "#Creating column StimMedsRoute via applying the function Stim_Meds_Route\n",
    "df['StimMedsRoute'] = df.apply(Stim_Meds_Route,axis = 1)"
   ]
  },
  {
   "cell_type": "code",
   "execution_count": 43,
   "id": "feb3522c",
   "metadata": {},
   "outputs": [],
   "source": [
    "#Creating function to create column StimsOther1Route\n",
    "def Stim_Other_Route (row):\n",
    "    if row['STIMULANTS_OTHER_ROUTE'] == '1. Oral':\n",
    "        return 1\n",
    "    elif row['StimsOther1Days'] ==0:\n",
    "        return -1\n",
    "    else:\n",
    "        return -1\n",
    "\n",
    "#Creating column StimsOther1Route via applying function Stim_Other_Route\n",
    "df['StimsOther1Route'] = df.apply(Stim_Other_Route, axis = 1)"
   ]
  },
  {
   "cell_type": "code",
   "execution_count": 44,
   "id": "11009ba7",
   "metadata": {},
   "outputs": [],
   "source": [
    "#Creating blank columns:\n",
    "df['StimsOther2Days'] = 0\n",
    "df['StimsOther2Route'] = -1\n",
    "df['StimsOther2Spec'] = \" \"\n",
    "df['StimsOther3Days'] = 0\n",
    "df['StimsOther3Route'] = -1\n",
    "df['StimsOther3Spec'] = \" \""
   ]
  },
  {
   "cell_type": "code",
   "execution_count": 45,
   "id": "5a47afb0",
   "metadata": {},
   "outputs": [],
   "source": [
    "#Creating function to create column PCPRoute\n",
    "def PCP_Route (row):\n",
    "    if row['PCP_ROUTE'] == '4. Smoking':\n",
    "        return 3\n",
    "    elif row['PCPDays']==0:\n",
    "        return -1\n",
    "    else:\n",
    "        return -1\n",
    "    \n",
    "#Creating column PCPRoute via applying the function PCP_Route\n",
    "df['PCPRoute'] = df.apply(PCP_Route, axis = 1)"
   ]
  },
  {
   "cell_type": "code",
   "execution_count": 46,
   "id": "18a77d2a",
   "metadata": {},
   "outputs": [],
   "source": [
    "#Creating function to create column MDMARoute\n",
    "def MDMA_Route (row):\n",
    "    if row['MDMA_ROUTE'] == '1. Oral':\n",
    "        return 1\n",
    "    elif row['MDMADays'] == 0:\n",
    "        return -1\n",
    "    else:\n",
    "        return -1\n",
    "    \n",
    "#Creating column MDMARoute via applying the function MDMA_Route\n",
    "df['MDMARoute'] = df.apply(MDMA_Route,axis = 1)"
   ]
  },
  {
   "cell_type": "code",
   "execution_count": 47,
   "id": "261e453c",
   "metadata": {},
   "outputs": [],
   "source": [
    "#Creating function to cerate column LSDRoute\n",
    "def LSD_Route (row):\n",
    "    if row['LSD_ROUTE'] == '1. Oral':\n",
    "        return 1\n",
    "    elif row['LSDDays']==0:\n",
    "        return -1\n",
    "    else:\n",
    "        return -1\n",
    "\n",
    "#Creating column LSDRoute via applying the function LSD_Route\n",
    "df['LSDRoute'] = df.apply(LSD_Route,axis = 1)"
   ]
  },
  {
   "cell_type": "code",
   "execution_count": 48,
   "id": "b0e0859c",
   "metadata": {},
   "outputs": [],
   "source": [
    "#Replacing null values to create column MushroomDays\n",
    "df['MushroomDays'] = df['MUSHROOMS_NUMBER_OF_DAYS'].fillna(0)"
   ]
  },
  {
   "cell_type": "code",
   "execution_count": 49,
   "id": "e43a4050",
   "metadata": {},
   "outputs": [],
   "source": [
    "#Creating function to create column MushroomRoute\n",
    "def Mushroom_Route (row):\n",
    "    if row['MUSHROOMS_ROUTE'] == '1. Oral':\n",
    "        return 1\n",
    "    elif row['MushroomDays']== 0:\n",
    "        return -1\n",
    "    else:\n",
    "        return -1\n",
    "\n",
    "#Creating column MushroomRoute via applying the function Mushroom_Route\n",
    "df['MushroomRoute'] = df.apply(Mushroom_Route,axis = 1)"
   ]
  },
  {
   "cell_type": "code",
   "execution_count": 50,
   "id": "c65fae0d",
   "metadata": {},
   "outputs": [],
   "source": [
    "#Creating blank columns:\n",
    "df['HalluPsychOther2Days'] = 0\n",
    "df['HalluPsychOther2Route'] = -1\n",
    "df['HalluPsychOther2Spec'] = \" \"\n",
    "df['HalluPsychOther3Days'] = 0\n",
    "df['HalluPsychOther3Route'] = -1\n",
    "df['HalluPsychOther3Spec'] = \" \""
   ]
  },
  {
   "cell_type": "code",
   "execution_count": 51,
   "id": "0c365e26",
   "metadata": {},
   "outputs": [],
   "source": [
    "#Creating blank columns:\n",
    "df['InhalantsOther2Days'] = 0\n",
    "df['InhalantsOther2Route'] = -1\n",
    "df['InhalantsOther2Spec'] = \" \"\n",
    "df['InhalantsOther3Days'] = 0\n",
    "df['InhalantsOther3Route'] = -1\n",
    "df['InhalantsOther3Spec'] = \" \""
   ]
  },
  {
   "cell_type": "code",
   "execution_count": 52,
   "id": "aa9d5ff0",
   "metadata": {},
   "outputs": [],
   "source": [
    "#Create dictionary to rename columns using .rename()\n",
    "\n",
    "col_rename1 = {'INHALANTS_NUMBER_OF_DAYS':'InhalantsDays','INHALANTS_ROUTE':'InhalantsRoute', \n",
    "                'INHALANTS_OTHER_NUMBER_OF_DAYS':'InhalantsOther1Days', 'INHALANTS_OTHER_ROUTE':'InhalantsOther1Route', \n",
    "               'INHALANTS_OTHER':'InhalantsOther1Spec', 'NON_PRESCRIPTION_GHB_NUMBER_OF_DAYS':'NonPrescGhbDays',\n",
    "               'NON_PRESCRIPTION_GHB_ROUTE':'NonPrescGhbRoute', 'KETAMINE_NUMBER_OF_DAYS':'KetamineDays', \n",
    "               'KETAMINE_ROUTE':'KetamineRoute', 'MDPV_BATH_SALTS_NUMBER_OF_DAYS':'BathSaltsDays',\n",
    "               'MDPV_BATH_SALTS_ROUTE':'BathSaltsRoute', 'KRATOM_NUMBER_OF_DAYS':'KratomDays',  \n",
    "               'KRATOM_ROUTE':'KratomRoute', 'KHAT_NUMBER_OF_DAYS':'KhatDays', \n",
    "               'KHAT_ROUTE':'KhatRoute', 'OTHER_TRANQUILIZERS_NUMBER_OF_DAYS':'OtherTranqDays', \n",
    "               'OTHER_TRANQUILIZERS_ROUTE':'OtherTranqRoute', 'OTHER_DOWNERS_NUMBER_OF_DAYS':'OtherDownersDays', \n",
    "               'OTHER_DOWNERS_ROUTE':'OtherDownersRoute', 'OTHER_SEDATIVES_NUMBER_OF_DAYS':'OtherSedativesDays', \n",
    "               'OTHER_SEDATIVES_ROUTE':'OtherSedativesRoute', 'OTHER_HYPNOTICS_NUMBER_OF_DAYS':'OtherHypsDays', \n",
    "               'OTHER_HYPNOTICS_ROUTE':'OtherHypsRoute', 'PSYCHOACTIVE_SUBSTANCES_OTHER_NUMBER_OF_DAYS':'PsychActOther1Days', \n",
    "               'PSYCHOACTIVE_SUBSTANCES_OTHER_ROUTE':'PsychActOther1Route', 'PSYCHOACTIVE_SUBSTANCES_OTHER':'PsychActOther1Spec'}\n",
    "\n",
    "\n",
    "#Renaming columns\n",
    "df.rename(columns = col_rename1, inplace = True)\n",
    "\n",
    "#Creating variable to replace null values\n",
    "days_col6 = ['NonPrescGhbDays','InhalantsDays',\n",
    "             'InhalantsOther1Days','KetamineDays',\n",
    "             'BathSaltsDays','KratomDays' ,\n",
    "             'KhatDays' ,'OtherTranqDays',\n",
    "             'OtherDownersDays','OtherSedativesDays','OtherHypsDays',\n",
    "             'PsychActOther1Days',\t]\n",
    "\n",
    "route_col6 = ['InhalantsRoute','InhalantsOther1Route','NonPrescGhbRoute',\n",
    "              'KetamineRoute','BathSaltsRoute','KratomRoute',\n",
    "              'KhatRoute','OtherTranqRoute','OtherDownersRoute','OtherSedativesRoute'\n",
    "              ,'OtherHypsRoute','PsychActOther1Route']\n",
    "#Replacing null values with 0 and -1\n",
    "df[days_col6] = df[days_col6].fillna(0)\n",
    "df[route_col6] = df[route_col6].fillna(-1)"
   ]
  },
  {
   "cell_type": "code",
   "execution_count": 53,
   "id": "e869805f",
   "metadata": {
    "scrolled": true
   },
   "outputs": [],
   "source": [
    "#Creating blank columns:\n",
    "df['PsychActOther2Days'] = 0\n",
    "df['PsychActOther2Route'] = -1\n",
    "df['PsychActOther2Spec'] = \" \"\n",
    "df['PsychActOther3Days'] = 0\n",
    "df['PsychActOther3Route'] = -1\n",
    "df['PsychActOther3Spec'] = \" \""
   ]
  },
  {
   "cell_type": "code",
   "execution_count": 54,
   "id": "1da41927",
   "metadata": {},
   "outputs": [],
   "source": [
    "#Creating substrings\n",
    "df['TOBACCO_ROUTE'] = df['TOBACCO_ROUTE'].str.split(',').str[0]\n",
    "\n",
    "#Replacing null values to create column TobaccoDays\n",
    "df['TobaccoDays'] = df['TOBACCO_NUMBER_OF_DAYS'].fillna(0)\n",
    "\n",
    "#Replacing values over 30 with 30\n",
    "df['TobaccoDays'] = df['TobaccoDays'].apply(lambda x: exceed_thirty_days(x))\n",
    "\n",
    "#Creating function to for column TobaccoRoute\n",
    "def Tobacco_Route (row):\n",
    "    if row['TOBACCO_ROUTE'] == '1. Oral':\n",
    "        return 1\n",
    "    elif row['TOBACCO_ROUTE'] == '4. Smoking':\n",
    "        return 3\n",
    "    elif row['TOBACCO_ROUTE'] == '3. Vaping':\n",
    "        return 6\n",
    "    elif row['TobaccoDays']== 0:\n",
    "        return -1\n",
    "    else:\n",
    "        return -1\n",
    "\n",
    "#Creating column TobaccoRoute via applying function Tobacco_Route\n",
    "df['TobaccoRoute'] = df.apply(Tobacco_Route,axis = 1)"
   ]
  },
  {
   "cell_type": "code",
   "execution_count": 55,
   "id": "8b73925a",
   "metadata": {},
   "outputs": [],
   "source": [
    "#Replacing null values to create column NicotineDays\n",
    "df['NicotineDays'] = df['NICOTINE_INCLUDING_VAPE_NUMBER_OF_DAYS'].fillna(0)\n",
    "df['NicotineDays'] = df['NicotineDays'].apply(lambda x:exceed_thirty_days(x))\n",
    "\n",
    "#Creating substrings\n",
    "df['NICOTINE_INCLUDING_VAPE_ROUTE'] = df['NICOTINE_INCLUDING_VAPE_ROUTE'].str.split(',').str[0]\n",
    "\n",
    "#Creating a function to create column NicotineRoute\n",
    "def Nicotine_Route (row):\n",
    "    if row['NICOTINE_INCLUDING_VAPE_ROUTE'] == '1. Oral':\n",
    "        return 1\n",
    "    elif row['NICOTINE_INCLUDING_VAPE_ROUTE'] == '4. Smoking':\n",
    "        return 3\n",
    "    elif row['NICOTINE_INCLUDING_VAPE_ROUTE'] == '3. Vaping':\n",
    "        return 6\n",
    "    elif row['NicotineDays'] == 0:\n",
    "        return -1\n",
    "    else:\n",
    "        return -1\n",
    "\n",
    "#Creating column NicotineRoute via applying function Nicotine_Route\n",
    "df['NicotineRoute'] = df.apply(Nicotine_Route,axis = 1)"
   ]
  },
  {
   "cell_type": "code",
   "execution_count": 56,
   "id": "2d2590de",
   "metadata": {},
   "outputs": [],
   "source": [
    "#Creating columns TobNicOther1Days,TobNicOther1Route, and TobNicOther1Spec\n",
    "df['TobNicOther1Days'] = df['TOBACCO_OTHER_NUMBER_OF_DAYS'].fillna(0)\n",
    "df['TobNicOther1Days'] = df['TobNicOther1Days'].apply(lambda x:exceed_thirty_days(x))\n",
    "\n",
    "#Creating function for column TobNicOther1Route\n",
    "def Tob_Other_Route (row):\n",
    "    if row['TOBACCO_OTHER_ROUTE'] == '4. Smoking':\n",
    "        return 3\n",
    "    elif row['TOBACCO_OTHER_ROUTE'] == '3. Vaping':\n",
    "        return 6\n",
    "    elif row['TobNicOther1Days'] == 0:\n",
    "        return -1\n",
    "    else:\n",
    "        return -1\n",
    "\n",
    "#Creating column TobNicOther1Route via applying function Tob_Other_Route\n",
    "df['TobNicOther1Route'] = df.apply(Tob_Other_Route,axis = 1)\n",
    "\n",
    "#Renaming column to create column TobNicOther1Spec\n",
    "df.rename(columns = {'TOBACCO_OTHER':'TobNicOther1Spec'}, inplace = True)\n",
    "\n",
    "\n",
    "# df['TobNicOther1Spec'] = df['TobNicOther1Spec'].str.title()"
   ]
  },
  {
   "cell_type": "code",
   "execution_count": 57,
   "id": "23ec09d0",
   "metadata": {},
   "outputs": [],
   "source": [
    "#Creating blank values:\n",
    "df['TobNicOther2Days'] = 0\n",
    "df['TobNicOther2Route'] = -1\n",
    "df['TobNicOther2Spec'] = \" \"\n",
    "df['TobNicOther3Days'] = 0\n",
    "df['TobNicOther3Route'] = -1\n",
    "df['TobNicOther3Spec'] = \" \""
   ]
  },
  {
   "cell_type": "code",
   "execution_count": 58,
   "id": "c5d20198",
   "metadata": {},
   "outputs": [],
   "source": [
    "#Replacing null values with 0\n",
    "df['MEDICATION_RECEIVED_FOR_DIAGNOSIS_OF_ALCOHOL_USE_DISORDER_PAST_30_DAYS'] = df['MEDICATION_RECEIVED_FOR_DIAGNOSIS_OF_ALCOHOL_USE_DISORDER_PAST_30_DAYS'].fillna(0)\n",
    "df['MEDICATION_RECEIVED_FOR_DIAGNOSIS_OF_ALCOHOL_USE_DISORDER_PAST_30_DAYS'] = df['MEDICATION_RECEIVED_FOR_DIAGNOSIS_OF_ALCOHOL_USE_DISORDER_PAST_30_DAYS'].str.split(',').str[0]\n",
    "\n",
    "# Creating function to create column AlcMedNaltrexone\n",
    "def Alc_Med_Naltrexone (row):\n",
    "    if row['MEDICATION_RECEIVED_FOR_DIAGNOSIS_OF_ALCOHOL_USE_DISORDER_PAST_30_DAYS'] == 'Naltrexone':\n",
    "        return 1\n",
    "    else:\n",
    "        return 0\n",
    "\n",
    "    \n",
    "#Creating column AlcMedNaltrexone via applying the function Alc_Med_Naltrexone\n",
    "df['AlcMedNaltrexone'] = df.apply(Alc_Med_Naltrexone,axis = 1)"
   ]
  },
  {
   "cell_type": "code",
   "execution_count": 59,
   "id": "bc5ac592",
   "metadata": {},
   "outputs": [],
   "source": [
    "# Creating AlcMedNaltrexoneDays column\n",
    "def AlcMedNaltrexoneDays(row):\n",
    "    if row['AlcMedNaltrexone'] == 0:\n",
    "        pass\n",
    "    elif row['AlcMedNaltrexone'] == 1:\n",
    "        return 1\n",
    "        \n",
    "df['AlcMedNaltrexoneDays'] = df.apply(AlcMedNaltrexoneDays,axis=1 )"
   ]
  },
  {
   "cell_type": "code",
   "execution_count": 60,
   "id": "e887ae38",
   "metadata": {},
   "outputs": [],
   "source": [
    "#Creating function to create column AlcMedExtRelNaltrexone\n",
    "def AlcMedExtRelNaltrexone (row):\n",
    "    if row['MEDICATION_RECEIVED_FOR_DIAGNOSIS_OF_ALCOHOL_USE_DISORDER_PAST_30_DAYS'] == 'Extended-release Naltrexone':\n",
    "        return 1\n",
    "    else:\n",
    "        return 0\n",
    "    \n",
    "#Creating column AlcMedExtRelNaltrexone via applying function AlcMedExtRelNaltrexone\n",
    "df['AlcMedExtRelNaltrexone'] = df.apply(AlcMedExtRelNaltrexone, axis = 1)"
   ]
  },
  {
   "cell_type": "code",
   "execution_count": 61,
   "id": "da0f0446",
   "metadata": {},
   "outputs": [],
   "source": [
    "#Creating function to create column AlcMedExtRelNaltrexoneDoses\n",
    "def AlcMedExtRelNaltrexoneDoses (row):\n",
    "    if row['AlcMedExtRelNaltrexone'] == 0:\n",
    "        pass\n",
    "    elif row['AlcMedExtRelNaltrexone'] == 1:\n",
    "        return row['NUMBER_OF_DAYS_RECEIVED_EXTENDED_RELEASE_NALTREXONE']\n",
    "    \n",
    "df['AlcMedExtRelNaltrexoneDoses'] = df.apply( AlcMedExtRelNaltrexoneDoses, axis = 1)"
   ]
  },
  {
   "cell_type": "code",
   "execution_count": 62,
   "id": "a6547c4d",
   "metadata": {},
   "outputs": [],
   "source": [
    "#Renaming column to create column AlcMedDisulfiram\n",
    "df.rename(columns = {'NUMBER_OF_DAYS_RECEIVED_DISULFIRAM':'AlcMedDisulfiramDays'}, inplace = True)\n",
    "df['AlcMedDisulfiramDays'] = df['AlcMedDisulfiramDays'].fillna(0).astype('int')\n",
    "\n",
    "#Creating column \n",
    "def AlcMedDisulfiram (row):\n",
    "    if row['AlcMedDisulfiramDays'] == 0:\n",
    "        return 0\n",
    "    elif row['AlcMedDisulfiramDays'] > 1:\n",
    "        return 1\n",
    "    else:\n",
    "        return 0\n",
    "    \n",
    "df['AlcMedDisulfiram'] = df.apply(AlcMedDisulfiram, axis = 1)\n",
    "\n",
    "def AlcMedDisulfiramDays (row):\n",
    "    if row['AlcMedDisulfiram'] == 0:\n",
    "        pass\n",
    "    else:\n",
    "        return row['AlcMedDisulfiramDays']\n",
    "\n",
    "\n",
    "#Creating column AlcMedDisulfiramDays\n",
    "df['AlcMedDisulfiramDays'] = df.apply(AlcMedDisulfiramDays,axis = 1)\n",
    "\n",
    "# df['AlcMedDisulfiramDays'] = df['AlcMedDisulfiramDays'].apply(lambda x:exceed_thirty_days(x))"
   ]
  },
  {
   "cell_type": "code",
   "execution_count": 63,
   "id": "4d626f71",
   "metadata": {},
   "outputs": [],
   "source": [
    "#Creating function to create column AlcMedAcamprosate\n",
    "def Alc_Med_Acamprosate (row):\n",
    "    if row['MEDICATION_RECEIVED_FOR_DIAGNOSIS_OF_ALCOHOL_USE_DISORDER_PAST_30_DAYS'] == 'Acamprosate':\n",
    "        return 1\n",
    "    else:\n",
    "        return 0\n",
    "\n",
    "#Creating column AlcMedAcamprosate via applying function Alc_Med_Acamprosate\n",
    "df['AlcMedAcamprosate'] = df.apply(Alc_Med_Acamprosate, axis = 1)\n",
    "\n",
    "def Alc_Med_Acamprosate_Days (row):\n",
    "    if row['AlcMedAcamprosate'] == 1:\n",
    "        return row['NUMBER_OF_DAYS_RECEIVED_ACAMPROSATE']\n",
    "    elif row['AlcMedAcamprosate'] == 0:\n",
    "        pass\n",
    "\n",
    "df['AlcMedAcamprosateDays'] = df.apply(Alc_Med_Acamprosate_Days, axis = 1)\n",
    "# df['AlcMedAcamprosateDays'] = df['AlcMedAcamprosateDays'].apply(lambda x:exceed_thirty_days(x))"
   ]
  },
  {
   "cell_type": "code",
   "execution_count": 64,
   "id": "665ed453",
   "metadata": {},
   "outputs": [],
   "source": [
    "#Creating AlcMedNoneRcvdDiagnosed column\n",
    "def AlcMedNoneRcvdDiagnosed (row):\n",
    "    if row['MEDICATION_RECEIVED_FOR_DIAGNOSIS_OF_ALCOHOL_USE_DISORDER_PAST_30_DAYS'] == 'DID NOT RECEIVE AN FDA-APPROVED MEDICATION FOR A DIAGNOSED ALCOHOL USE DISORDER':\n",
    "        return 1\n",
    "    else:\n",
    "        return 0\n",
    "\n",
    "def not_ap (row):\n",
    "    if row['AlcMedNaltrexone'] == 1:\n",
    "        return -1 \n",
    "    elif row['AlcMedExtRelNaltrexone'] == 1:\n",
    "        return -1 \n",
    "    elif row['AlcMedDisulfiram'] == 1:\n",
    "        return -1\n",
    "    elif row['AlcMedAcamprosate'] == 1:\n",
    "        return -1\n",
    "    else:\n",
    "        return AlcMedNoneRcvdDiagnosed(row)\n",
    "    \n",
    "df['AlcMedNoneRcvdDiagnosed'] = df.apply(not_ap, axis =1)"
   ]
  },
  {
   "cell_type": "code",
   "execution_count": 65,
   "id": "fa9402fb",
   "metadata": {},
   "outputs": [],
   "source": [
    "#Creating AlcMedNotDiagnosed column\n",
    "def AlcMedNotDiagnosed (row):\n",
    "    if row['MEDICATION_RECEIVED_FOR_DIAGNOSIS_OF_ALCOHOL_USE_DISORDER_PAST_30_DAYS'] == 'CLIENT DOES NOT REPORT SUCH A DIAGNOSIS':\n",
    "        return 1\n",
    "    else:\n",
    "        return 0\n",
    "\n",
    "def not_ap (row):\n",
    "    if row['AlcMedNaltrexone'] == 1:\n",
    "        return -1 \n",
    "    elif row['AlcMedExtRelNaltrexone'] == 1:\n",
    "        return -1 \n",
    "    elif row['AlcMedDisulfiram'] == 1:\n",
    "        return -1\n",
    "    elif row['AlcMedAcamprosate'] == 1:\n",
    "        return -1\n",
    "    else:\n",
    "        return AlcMedNotDiagnosed(row)   \n",
    "\n",
    "\n",
    "df['AlcMedNotDiagnosed'] = df.apply(not_ap, axis = 1)"
   ]
  },
  {
   "cell_type": "code",
   "execution_count": 66,
   "id": "85fbdd5f",
   "metadata": {},
   "outputs": [],
   "source": [
    "#Replacing null values with 0 to create column OpMedMethadoneDays\n",
    "df['OpMedMethadoneDays'] = df['NUMBER_OF_DAYS_RECEIVED_METHADONE'].fillna(0)\n",
    "df['OpMedMethadoneDays'] = df['OpMedMethadoneDays'].apply(lambda x: exceed_thirty_days(x))\n",
    "df['OpMedMethadoneDays'] = df['OpMedMethadoneDays'].astype('int64')\n",
    "\n",
    "#Creating a function to create column OpMedMethadone\n",
    "def Op_Med_Methadone (x):\n",
    "    if x > 0:\n",
    "        return 1\n",
    "    elif x == 0:\n",
    "        return 0\n",
    "\n",
    "#Creating column OpMedMethadone via applying the function Op_Med_Methadone\n",
    "df['OpMedMethadone'] = df['OpMedMethadoneDays'].apply(lambda x :Op_Med_Methadone (x))\n",
    "\n",
    "#Replacing 0 with blanks\n",
    "df['OpMedMethadoneDays'] = df['OpMedMethadoneDays'].replace(0,'')"
   ]
  },
  {
   "cell_type": "code",
   "execution_count": 67,
   "id": "f09dcce8",
   "metadata": {},
   "outputs": [],
   "source": [
    "#Replacing null values with -9 to create column OpMedBuprenorphineDays\n",
    "df['OpMedBuprenorphineDays'] = df['NUMBER_OF_DAYS_RECEIVED_BUPRENORPHINE'].fillna(0)\n",
    "df['OpMedBuprenorphineDays'] = df['OpMedBuprenorphineDays'].apply(lambda x:exceed_thirty_days(x))\n",
    "df['OpMedBuprenorphineDays'] = df['OpMedBuprenorphineDays'].astype('int64')\n",
    "\n",
    "#Creating function to create column OpMedBuprenorphine\n",
    "def Op_Med_Buprenorphine (x):\n",
    "    if x > 0:\n",
    "        return 1\n",
    "    elif x == 0:\n",
    "        return 0\n",
    "    \n",
    "#Creating column OpMedBuprenorphine via applying function Op_Med_Buprenorphin\n",
    "df['OpMedBuprenorphine'] = df['OpMedBuprenorphineDays'].apply(lambda x:Op_Med_Buprenorphine (x))\n",
    "\n",
    "#Replacing 0 values with blanks\n",
    "df['OpMedBuprenorphineDays'] = df['OpMedBuprenorphineDays'].replace(0,'')"
   ]
  },
  {
   "cell_type": "code",
   "execution_count": 68,
   "id": "e8e96624",
   "metadata": {},
   "outputs": [],
   "source": [
    "#Replacing null values with -9 to create column OpMedNaltrexoneDays\n",
    "df['OpMedNaltrexoneDays'] = df['NUMBER_OF_DAYS_RECEIVED_NALTREXONE'].fillna(0)\n",
    "df['OpMedNaltrexoneDays'] = df['OpMedNaltrexoneDays'].apply(lambda x:exceed_thirty_days(x))\n",
    "df['OpMedNaltrexoneDays'] = df['OpMedNaltrexoneDays'].astype('int64')\n",
    "\n",
    "#Creating function to create column OpMedNaltrexone\n",
    "def Op_Med_Naltrexone (x):\n",
    "    if x > 0:\n",
    "        return 1\n",
    "    elif x == 0:\n",
    "        return 0\n",
    "    \n",
    "#Creating column OpMedNaltrexone via applying function Op_Med_Naltrexone\n",
    "df['OpMedNaltrexone'] = df['OpMedNaltrexoneDays'].apply(lambda x: Op_Med_Naltrexone (x))\n",
    "\n",
    "\n",
    "#Replacing 0 with blank space \n",
    "df['OpMedNaltrexoneDays'] = df['OpMedNaltrexoneDays'].replace(0,'')"
   ]
  },
  {
   "cell_type": "code",
   "execution_count": 69,
   "id": "6908264b",
   "metadata": {
    "scrolled": true
   },
   "outputs": [],
   "source": [
    "#Creating function to create column OpMedExtRelNaltrexone\n",
    "def Op_Med_ExtRel_Naltrexone (x): \n",
    "    if x == 1 or x == 2:\n",
    "        return 1\n",
    "    else:\n",
    "        return 0\n",
    "    \n",
    "#Creating column OpMedExtRelNaltrexone via applying function Op_Med_ExtRel_Naltrexone\n",
    "df['OpMedExtRelNaltrexone'] = df['NUMBER_OF_DAYS_RECEIVED_EXTENDED_RELEASE_NALTREXONE'].apply(lambda x: Op_Med_ExtRel_Naltrexone (x))"
   ]
  },
  {
   "cell_type": "code",
   "execution_count": 70,
   "id": "c2d8f618",
   "metadata": {},
   "outputs": [],
   "source": [
    "#Creating OpMedExtRelNaltrexoneDoses columns\n",
    "def doses (row):\n",
    "    if row['OpMedExtRelNaltrexone'] < 1:\n",
    "        pass\n",
    "    else:\n",
    "        return row['OpMedExtRelNaltrexone']\n",
    "\n",
    "df['OpMedExtRelNaltrexoneDoses'] = df.apply(doses, axis = 1)"
   ]
  },
  {
   "cell_type": "code",
   "execution_count": 71,
   "id": "786de667",
   "metadata": {},
   "outputs": [],
   "source": [
    "# Creating OpMedNoneRcvdDiagnosed column\n",
    "\n",
    "#Data Cleaning\n",
    "df['MEDICATION_RECEIVED_FOR_OPIOID_USE_DISORDER_PAST_30_DAYS'] = df['MEDICATION_RECEIVED_FOR_OPIOID_USE_DISORDER_PAST_30_DAYS'].str.split(',').str[0]\n",
    "\n",
    "def OpMedNoneRcvdDiagnosed (x):\n",
    "    if x == 'DID NOT RECEIVE AN FDA-APPROVED MEDICATION FOR A DIAGNOSED OPIOID USE DISORDER':\n",
    "        return 1\n",
    "    elif x in(['Buprenorphine','Methadone','CLIENT DOES NOT REPORT SUCH A DIAGNOSIS']):\n",
    "        return 0\n",
    "    else:\n",
    "        return 0\n",
    "    \n",
    "df['OpMedNoneRcvdDiagnosed'] = df['MEDICATION_RECEIVED_FOR_OPIOID_USE_DISORDER_PAST_30_DAYS'].apply(lambda x: OpMedNoneRcvdDiagnosed (x))"
   ]
  },
  {
   "cell_type": "code",
   "execution_count": 72,
   "id": "f062e896",
   "metadata": {},
   "outputs": [],
   "source": [
    "#Creating OpMedNotDiagnosed column\n",
    "\n",
    "def OpMedNotDiagnosed (x):\n",
    "    if x == 'CLIENT DOES NOT REPORT SUCH A DIAGNOSIS':\n",
    "        return 1\n",
    "    elif x in (['Buprenorphine','Methadone','DID NOT RECEIVE AN FDA-APPROVED MEDICATION FOR A DIAGNOSED OPIOID USE DISORDER']):\n",
    "        return 0\n",
    "    else:\n",
    "        return 0\n",
    "    \n",
    "df['OpMedNotDiagnosed'] = df['MEDICATION_RECEIVED_FOR_OPIOID_USE_DISORDER_PAST_30_DAYS'].apply(lambda x: OpMedNotDiagnosed (x))"
   ]
  },
  {
   "cell_type": "markdown",
   "id": "4f36acf9",
   "metadata": {},
   "source": [
    "# Export GPRA 2"
   ]
  },
  {
   "cell_type": "code",
   "execution_count": 73,
   "id": "4f04659a",
   "metadata": {},
   "outputs": [],
   "source": [
    "GPRA2_STAR = df[['ClientID','OpioidsDemerolRoute',\t'OpioidsPercocetDays',\t'OpioidsPercocetRoute',\n",
    "                 'OpioidsCodeineDays',\t'OpioidsCodeineRoute',\t'OpioidsTylenolDays',\n",
    "                 'OpioidsTylenolRoute',\t'OpioidsOxycoDays',\t'OpioidsOxycoRoute',\t'OpioidsNonPresMethadoneDays',\n",
    "                 'OpioidsNonPresMethadoneRoute',\t'OpioidsNonPresBupDays',\t'OpioidsNonPresBupRoute',\n",
    "                 'OpioidsOther1Days',\t'OpioidsOther1Route',\t'OpioidsOther1Spec',\t'OpioidsOther2Days',\n",
    "                 'OpioidsOther2Route',\t'OpioidsOther2Spec',\t'OpioidsOther3Days',\t'OpioidsOther3Route',\n",
    "                 'OpioidsOther3Spec',\t'MarijuanaDays',\t'MarijuanaRoute',\t'SynthCannDays',\n",
    "                 'SynthCannRoute',\t'CannOther1Days',\t'CannOther1Route',\t'CannOther1Spec',\t'CannOther2Days',\n",
    "                 'CannOther2Route',\t'CannOther2Spec',\t'CannOther3Days',\t'CannOther3Route',\t'CannOther3Spec',\n",
    "                 'SedativeDays',\t'SedativeRoute',\t'HypnoDays',\t'HypnoRoute',\t'BarbituratesDays',\n",
    "                 'BarbituratesRoute',\t'AnxioBenzoDays',\t'AnxioBenzoRoute',\t'SedHypOther1Days',\t'SedHypOther1Route',\n",
    "                 'SedHypOther1Spec',\t'SedHypOther2Days',\t'SedHypOther2Route',\t'SedHypOther2Spec',\t'SedHypOther3Days',\n",
    "                 'SedHypOther3Route',\t'SedHypOther3Spec',\t'CocaineDays',\t'CocaineRoute',\t'CrackDays',\t'CrackRoute',\n",
    "                 'CocaineOther1Days',\t'CocaineOther1Route',\t'CocaineOther1Spec',\t'CocaineOther2Days',\n",
    "                 'CocaineOther2Route',\t'CocaineOther2Spec',\t'CocaineOther3Days',\t'CocaineOther3Route',\n",
    "                 'CocaineOther3Spec',\t'MethamDays',\t'MethamRoute',\t'StimMedsDays',\t'StimMedsRoute',\n",
    "                 'StimsOther1Days',\t'StimsOther1Route',\t'StimsOther1Spec',\t'StimsOther2Days',\t'StimsOther2Route',\n",
    "                 'StimsOther2Spec',\t'StimsOther3Days',\t'StimsOther3Route',\t'StimsOther3Spec',\t'PCPDays',\t'PCPRoute',\n",
    "                 'MDMADays',\t'MDMARoute',\t'LSDDays',\t'LSDRoute',\t'MushroomDays',\t'MushroomRoute',\n",
    "                 'MescalineDays',\t'MescalineRoute',\t'SalviaDays',\t'SalviaRoute',\t'DMTDays',\t'DMTRoute',\n",
    "                 'HalluPsychOther1Days',\t'HalluPsychOther1Route',\t'HalluPsychOther1Spec',\t'HalluPsychOther2Days',\n",
    "                 'HalluPsychOther2Route',\t'HalluPsychOther2Spec',\t'HalluPsychOther3Days',\t'HalluPsychOther3Route',\n",
    "                 'HalluPsychOther3Spec',\t'InhalantsDays',\t'InhalantsRoute',\t'InhalantsOther1Days',\n",
    "                 'InhalantsOther1Route',\t'InhalantsOther1Spec',\t'InhalantsOther2Days',\t'InhalantsOther2Route',\n",
    "                 'InhalantsOther2Spec',\t'InhalantsOther3Days',\t'InhalantsOther3Route',\t'InhalantsOther3Spec',\n",
    "                 'NonPrescGhbDays',\t'NonPrescGhbRoute',\t'KetamineDays',\t'KetamineRoute',\t'BathSaltsDays',\n",
    "                 'BathSaltsRoute',\t'KratomDays',\t'KratomRoute',\t'KhatDays',\t'KhatRoute',\t'OtherTranqDays',\n",
    "                 'OtherTranqRoute',\t'OtherDownersDays',\t'OtherDownersRoute',\t'OtherSedativesDays',\n",
    "                 'OtherSedativesRoute',\t'OtherHypsDays',\t'OtherHypsRoute',\t'PsychActOther1Days',\n",
    "                 'PsychActOther1Route',\t'PsychActOther1Spec',\t'PsychActOther2Days',\t'PsychActOther2Route',\n",
    "                 'PsychActOther2Spec',\t'PsychActOther3Days',\t'PsychActOther3Route',\t'PsychActOther3Spec',\n",
    "                 'TobaccoDays',\t'TobaccoRoute',\t'NicotineDays',\t'NicotineRoute',\t'TobNicOther1Days',\t\n",
    "                 'TobNicOther1Route',\t'TobNicOther1Spec',\t'TobNicOther2Days',\t'TobNicOther2Route',\n",
    "                 'TobNicOther2Spec',\t'TobNicOther3Days',\t'TobNicOther3Route',\t'TobNicOther3Spec',\t\n",
    "                 'AlcMedNaltrexone',\t'AlcMedNaltrexoneDays',\t'AlcMedExtRelNaltrexone',\t'AlcMedExtRelNaltrexoneDoses',\n",
    "                 'AlcMedDisulfiram',\t'AlcMedDisulfiramDays',\t'AlcMedAcamprosate',\t'AlcMedAcamprosateDays',\n",
    "                 'AlcMedNoneRcvdDiagnosed',\t'AlcMedNotDiagnosed',\t'OpMedMethadone',\t'OpMedMethadoneDays',\t\n",
    "                 'OpMedBuprenorphine',\t'OpMedBuprenorphineDays',\t'OpMedNaltrexone',\t'OpMedNaltrexoneDays',\t\n",
    "                 'OpMedExtRelNaltrexone','OpMedExtRelNaltrexoneDoses','OpMedNoneRcvdDiagnosed','OpMedNotDiagnosed']]\n",
    "\n",
    "#Exporting GPRA 2\n",
    "GPRA2_STAR.to_csv('GPRA2_STAR.csv', index = False, header = True, encoding = 'utf-8')"
   ]
  }
 ],
 "metadata": {
  "kernelspec": {
   "display_name": "Python 3 (ipykernel)",
   "language": "python",
   "name": "python3"
  },
  "language_info": {
   "codemirror_mode": {
    "name": "ipython",
    "version": 3
   },
   "file_extension": ".py",
   "mimetype": "text/x-python",
   "name": "python",
   "nbconvert_exporter": "python",
   "pygments_lexer": "ipython3",
   "version": "3.11.4"
  }
 },
 "nbformat": 4,
 "nbformat_minor": 5
}
