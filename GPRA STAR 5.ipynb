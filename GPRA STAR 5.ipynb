{
 "cells": [
  {
   "cell_type": "markdown",
   "id": "2498c9fd",
   "metadata": {},
   "source": [
    "# GRPA Coding\n",
    "\n",
    "Goverment Perfromance and Results Act (GPRA) coding for intake data of recovery specialist for the Institure for Prevention and Recovery (IFPR) at RWJ Baranabas"
   ]
  },
  {
   "cell_type": "code",
   "execution_count": 51,
   "id": "7e487610",
   "metadata": {},
   "outputs": [],
   "source": [
    "#importing pandas\n",
    "import pandas as pd\n",
    "import numpy as np"
   ]
  },
  {
   "cell_type": "code",
   "execution_count": 52,
   "id": "e9ffe513",
   "metadata": {
    "scrolled": true
   },
   "outputs": [],
   "source": [
    "# importing data and parsing datetime columns\n",
    "df = pd.read_csv(r\"\\\\cdchomedir01\\home1\\tyogarro\\Jan GPRA\\GPRA_Coding_File.csv\", parse_dates = ['ADMIT_DT','FORM_DTTM',\n",
    "                                                                                                'FORM_UPDATE_DTTM'])\n",
    "\n",
    "#subsetting to include Peer Recovery Program episodes\n",
    "df = df[df['EPISODE'] =='IFPR - STAR Program'].sort_values(by = ['FORM_DTTM','MRN']) # <- sorting df"
   ]
  },
  {
   "cell_type": "code",
   "execution_count": 53,
   "id": "f67a6951",
   "metadata": {},
   "outputs": [],
   "source": [
    "#Renaming column to create ClientID\n",
    "df.rename(columns = {'CSN':'ClientID'}, inplace = True)\n",
    "df['ClientID'] = df['ClientID'].str.split(',').str[0]"
   ]
  },
  {
   "cell_type": "markdown",
   "id": "e827f75c",
   "metadata": {},
   "source": [
    "## Creating GPRA 5"
   ]
  },
  {
   "cell_type": "code",
   "execution_count": 54,
   "id": "7e98de97",
   "metadata": {},
   "outputs": [],
   "source": [
    "#Replacing null values with -9\n",
    "df['CURRENTLY_ENROLLED_IN_SCHOOL_OR_JOB_TRAINING'] = df['CURRENTLY_ENROLLED_IN_SCHOOL_OR_JOB_TRAINING'].fillna(-9)\n",
    "\n",
    "#Creating function to create column SchoolOrTrainingProgram\n",
    "def School_Or_TrainingProgram (x):\n",
    "    if x == 'NOT ENROLLED':\n",
    "        return 1\n",
    "    elif x == 'ENROLLED, FULL TIME':\n",
    "        return 2\n",
    "    elif x == 'ENROLLED, PART TIME':\n",
    "        return 3\n",
    "    elif x == 'REFUSED':\n",
    "        return -7\n",
    "    elif x == -9:\n",
    "        return -9\n",
    "    \n",
    "#Creating column SchoolOrTrainingProgram via applying the function School_Or_TrainingProgram (x)\n",
    "df['SchoolOrTrainingProgram'] = df['CURRENTLY_ENROLLED_IN_SCHOOL_OR_JOB_TRAINING'].apply(lambda x:School_Or_TrainingProgram (x))"
   ]
  },
  {
   "cell_type": "code",
   "execution_count": 55,
   "id": "e078b2a9",
   "metadata": {},
   "outputs": [],
   "source": [
    "#Replacing null values with -9\n",
    "df['HIGHEST_LEVEL_OF_EDUCATION'] = df['HIGHEST_LEVEL_OF_EDUCATION'].fillna(-9)\n",
    "\n",
    "#Creating function to create column Education\n",
    "def Education (x):\n",
    "    if x == 'LESS THAN 12TH GRADE':\n",
    "        return 1\n",
    "    elif x == '12TH GRADE/HIGH SCHOOL DIPLOMA/EQUIVALENT':\n",
    "        return 2\n",
    "    elif x == 'VOCATIONAL/TECHNICAL (VOC/TECH) DIPLOMA':\n",
    "        return 3\n",
    "    elif x == 'SOME COLLEGE OR UNIVERSITY':\n",
    "        return 4\n",
    "    elif x == 'BACHELOR’S DEGREE (FOR EXAMPLE - BA, BS)':\n",
    "        return 5\n",
    "    elif x == 'GRADUATE WORK/GRADUATE DEGREE':\n",
    "        return 6\n",
    "    elif x == 'OTHER (SPECIFY)':\n",
    "        return 7\n",
    "    elif x == 'REFUSED':\n",
    "        return -7\n",
    "    elif x == -9:\n",
    "        return -9\n",
    "    \n",
    "#Creating column Education via applying the function Education (x)\n",
    "df['Education'] = df['HIGHEST_LEVEL_OF_EDUCATION'].apply(lambda x:Education (x))"
   ]
  },
  {
   "cell_type": "code",
   "execution_count": 56,
   "id": "9a0cfc74",
   "metadata": {},
   "outputs": [],
   "source": [
    "#Replacing values\n",
    "df['EDUCATION_OTHER'] = df['EDUCATION_OTHER'].replace('Associated Degree','Associates')\n",
    "\n",
    "#Making characters uniform\n",
    "df['EDUCATION_OTHER'] = df['EDUCATION_OTHER'].str.title()\n",
    "\n",
    "#Replacing values \n",
    "df['EDUCATION_OTHER'] = df['EDUCATION_OTHER'].replace('Associates','Associates Degree')\n",
    "\n",
    "#Renaming\n",
    "df.rename(columns = {'EDUCATION_OTHER':'EducationSpec'},inplace = True)\n",
    "\n"
   ]
  },
  {
   "cell_type": "code",
   "execution_count": 57,
   "id": "10d6bb9d",
   "metadata": {},
   "outputs": [],
   "source": [
    "#Replacing null values with -9\n",
    "df['CURRENTLY_EMPLOYED'] = df['CURRENTLY_EMPLOYED'].fillna(-9)             \n",
    "\n",
    "#Creating function to create column EmployStatus\n",
    "def Employ_Status (x):\n",
    "    if x == 'EMPLOYED, FULL TIME (35+ HOURS PER WEEK, OR WOULD BE, IF NOT FOR LEAVE OR AN EXCUSED ABSENCE)':\n",
    "        return 1\n",
    "    elif x == 'EMPLOYED, PART TIME':\n",
    "        return 2\n",
    "    elif x == 'UNEMPLOYED—BUT LOOKING FOR WORK':\n",
    "        return 3\n",
    "    elif x == 'NOT EMPLOYED, NOT LOOKING FOR WORK':\n",
    "        return 7\n",
    "    elif x == 'NOT WORKING DUE TO A DISABILITY':\n",
    "        return 4\n",
    "    elif x == 'RETIRED, NOT WORKING':\n",
    "        return 6\n",
    "    elif x == 'OTHER (SPECIFY)':\n",
    "        return 0\n",
    "    elif x == 'REFUSED':\n",
    "        return -7\n",
    "    elif x == -9:\n",
    "        return -9\n",
    "    \n",
    "#Creating column EmployStatus via applying the function Employ_Status (x)\n",
    "df['EmployStatus'] = df['CURRENTLY_EMPLOYED'].apply(lambda x:Employ_Status (x))"
   ]
  },
  {
   "cell_type": "code",
   "execution_count": 58,
   "id": "667844b6",
   "metadata": {},
   "outputs": [],
   "source": [
    "#Renaming to create column\n",
    "df.rename(columns = {'EMPLOYMENT_OTHER':'EmployStatusSpec'},inplace = True)\n",
    "\n",
    "#Data Cleaning\n",
    "df['EmployStatusSpec'] = df['EmployStatusSpec'].str.title()"
   ]
  },
  {
   "cell_type": "code",
   "execution_count": 59,
   "id": "ebacefc4",
   "metadata": {},
   "outputs": [],
   "source": [
    "#Creating function to create column Employment\n",
    "def Employment (x):\n",
    "    if x == 1 or x == 2:\n",
    "        return 1\n",
    "    elif x == 3 or x == 4 or x == 6 or x == 7:\n",
    "        return 2\n",
    "    elif x < 0:\n",
    "        return -9\n",
    "    \n",
    "#Creating column Employment via applying the function Employment (x)\n",
    "df['Employment'] = df['EmployStatus'].apply(lambda x: Employment (x))"
   ]
  },
  {
   "cell_type": "code",
   "execution_count": 60,
   "id": "56be0d17",
   "metadata": {},
   "outputs": [],
   "source": [
    "#Splitting column and returning first part of the split \n",
    "df['HAVE_ENOUGH_MONEY_FOR_LIVING_EXPENSES'] = df['HAVE_ENOUGH_MONEY_FOR_LIVING_EXPENSES'].str.split(',').str[0]\n",
    "\n",
    "#Replacing null values with -9\n",
    "df['HAVE_ENOUGH_MONEY_FOR_LIVING_EXPENSES'] = df['HAVE_ENOUGH_MONEY_FOR_LIVING_EXPENSES'].fillna(-9)\n",
    "\n",
    "#Creating function to create column EnoughMoneyFood \n",
    "def Enough_Money_Food (x):\n",
    "    if x == 'Food':\n",
    "        return 1\n",
    "    elif x == 'REFUSED':\n",
    "        return -9\n",
    "    elif x == -9:\n",
    "        return -9\n",
    "    else:\n",
    "        return 0\n",
    "    \n",
    "#Creating column EnoughMoneyFood via applying the function Enough_Money_Food (x)\n",
    "df['EnoughMoneyFood'] = df['HAVE_ENOUGH_MONEY_FOR_LIVING_EXPENSES'].apply(lambda x:Enough_Money_Food (x))"
   ]
  },
  {
   "cell_type": "code",
   "execution_count": 61,
   "id": "837884c1",
   "metadata": {},
   "outputs": [],
   "source": [
    "#Creating function to create column EnoughMoneyClothing\n",
    "def Enough_Money_Clothing (x):\n",
    "    if x == 'Clothing':\n",
    "        return 1\n",
    "    elif x == 'REFUSED':\n",
    "        return -9\n",
    "    elif x == -9:\n",
    "        return -9\n",
    "    else:\n",
    "        return 0\n",
    "#Creating column EnoughMoneyClothing via applying the function Enough_Money_Clothing (x)\n",
    "df['EnoughMoneyClothing'] = df['HAVE_ENOUGH_MONEY_FOR_LIVING_EXPENSES'].apply(lambda x:Enough_Money_Clothing (x))"
   ]
  },
  {
   "cell_type": "code",
   "execution_count": 62,
   "id": "75fef94a",
   "metadata": {},
   "outputs": [],
   "source": [
    "#Creating function to create column EnoughMoneyTransport\n",
    "def Enough_Money_Transport (x):\n",
    "    if x == 'Transportation':\n",
    "        return 1\n",
    "    elif x == 'REFUSED':\n",
    "        return -9\n",
    "    elif x == -9:\n",
    "        return -9\n",
    "    else:\n",
    "        return 0\n",
    "#Creating column EnoughMoneyTransport via applying the function Enough_Money_Transport (x)\n",
    "df['EnoughMoneyTransport'] = df['HAVE_ENOUGH_MONEY_FOR_LIVING_EXPENSES'].apply(lambda x:Enough_Money_Transport (x))"
   ]
  },
  {
   "cell_type": "code",
   "execution_count": 63,
   "id": "8587451c",
   "metadata": {},
   "outputs": [],
   "source": [
    "#Creating function to create column EnoughMoneyRentHousing\n",
    "def Enough_Money_Rent_Housing (x):\n",
    "    if x == 'Rent/Housing':\n",
    "        return 1\n",
    "    elif x == 'REFUSED':\n",
    "        return -9\n",
    "    elif x == -9:\n",
    "        return -9\n",
    "    else:\n",
    "        return 0\n",
    "    \n",
    "#Creating column EnoughMoneyRentHousing via the function Enough_Money_Rent_Housing (x)\n",
    "df['EnoughMoneyRentHousing'] = df['HAVE_ENOUGH_MONEY_FOR_LIVING_EXPENSES'].apply(lambda x:Enough_Money_Rent_Housing (x))"
   ]
  },
  {
   "cell_type": "code",
   "execution_count": 64,
   "id": "08690126",
   "metadata": {},
   "outputs": [],
   "source": [
    "#Creating function to create column EnoughMoneyUtilities\n",
    "def Enough_Money_Utilities (x):\n",
    "    if x == 'Utilities (Gas/Water/Electric)':\n",
    "        return 1\n",
    "    elif x == 'REFUSED':\n",
    "        return -9\n",
    "    elif x == -9:\n",
    "        return -9\n",
    "    else:\n",
    "        return 0\n",
    "    \n",
    "#Creating column EnoughMoneyUtilities via applying the function Enough_Money_Utilities (x)\n",
    "df['EnoughMoneyUtilities'] = df['HAVE_ENOUGH_MONEY_FOR_LIVING_EXPENSES'].apply(lambda x:Enough_Money_Utilities (x))"
   ]
  },
  {
   "cell_type": "code",
   "execution_count": 65,
   "id": "3a6fdfdf",
   "metadata": {},
   "outputs": [],
   "source": [
    "#Creating function to create column EnoughMoneyPhone\n",
    "def Enough_Money_Phone (x):\n",
    "    if x == 'Telephone Connection (Cell or Landline)':\n",
    "        return 1\n",
    "    elif x == 'REFUSED':\n",
    "        return -9\n",
    "    elif x == -9:\n",
    "        return -9\n",
    "    else:\n",
    "        return 0\n",
    "\n",
    "#Creating column EnoughMoneyPhone via applying the function Enough_Money_Phone (x)\n",
    "df['EnoughMoneyPhone'] = df['HAVE_ENOUGH_MONEY_FOR_LIVING_EXPENSES'].apply(lambda x:Enough_Money_Phone (x))"
   ]
  },
  {
   "cell_type": "code",
   "execution_count": 66,
   "id": "a6989ea1",
   "metadata": {},
   "outputs": [],
   "source": [
    "#Creating function to create column EnoughMoneyChildcare\n",
    "def Enough_Money_Childcare (x):\n",
    "    if x == 'Childcare':\n",
    "        return 1\n",
    "    elif x == 'REFUSED':\n",
    "        return -9\n",
    "    elif x == -9:\n",
    "        return -9\n",
    "    else:\n",
    "        return 0\n",
    "    \n",
    "#Creating column EnoughMoneyChildcare via applying the function Enough_Money_Childcare (x)\n",
    "df['EnoughMoneyChildcare'] = df['HAVE_ENOUGH_MONEY_FOR_LIVING_EXPENSES'].apply(lambda x:Enough_Money_Childcare (x))"
   ]
  },
  {
   "cell_type": "code",
   "execution_count": 67,
   "id": "56f8da39",
   "metadata": {},
   "outputs": [],
   "source": [
    "#Creating function to create column EnoughMoneyHealthIns\n",
    "def Enough_Money_HealthIns (x):\n",
    "    if x == 'Health Insurance':\n",
    "        return 1\n",
    "    elif x == 'REFUSED':\n",
    "        return -9\n",
    "    elif x == -9:\n",
    "        return -9\n",
    "    else:\n",
    "        return 0\n",
    "    \n",
    "#Creating column EnoughMoneyHealthIns via applying the function Enough_Money_HealthIns (x)\n",
    "df['EnoughMoneyHealthIns'] = df['HAVE_ENOUGH_MONEY_FOR_LIVING_EXPENSES'].apply(lambda x:Enough_Money_HealthIns (x))"
   ]
  },
  {
   "cell_type": "code",
   "execution_count": 68,
   "id": "146e1d78",
   "metadata": {},
   "outputs": [],
   "source": [
    "#Replacing null values with -9\n",
    "df['PERSONAL_ANNUAL_INCOME'] = df['PERSONAL_ANNUAL_INCOME'].fillna(-9)\n",
    "\n",
    "#Creating function to create column Income\n",
    "def Income (x):\n",
    "    if x == -9:\n",
    "        return -9\n",
    "    elif x == 'REFUSED':\n",
    "        return -7\n",
    "    elif x == '$0 to $9,999':\n",
    "        return 1\n",
    "    elif x == '$10,000 to $14,999':\n",
    "        return 2\n",
    "    elif x == '$15,000 to $19,999':\n",
    "        return 3\n",
    "    elif x == '$20,000 to $34,999':\n",
    "        return 4\n",
    "    elif x == '$35,000 to $49,999':\n",
    "        return 5\n",
    "    elif x == '$50,000 to $74,999':\n",
    "        return 6\n",
    "    elif x == '$100,000 to $199,999':\n",
    "        return 8\n",
    "    \n",
    "#Creating column Income via applying the function Income (x)PERSONAL_ANNUAL_INCOME\n",
    "df['Income'] = df['PERSONAL_ANNUAL_INCOME'].apply(lambda x:Income (x))"
   ]
  },
  {
   "cell_type": "code",
   "execution_count": 69,
   "id": "37e941ea",
   "metadata": {},
   "outputs": [],
   "source": [
    "#Replacing null values with -9\n",
    "df['NUMBER_OF_TIMES_ARRESTED']= df['NUMBER_OF_TIMES_ARRESTED'].fillna(-9)\n",
    "\n",
    "#Renaming to create columns ArrestedDays\n",
    "df.rename(columns = {'NUMBER_OF_TIMES_ARRESTED':'ArrestedDays'},inplace = True)"
   ]
  },
  {
   "cell_type": "code",
   "execution_count": 70,
   "id": "5b574848",
   "metadata": {},
   "outputs": [],
   "source": [
    "#Replacing null values with -9\n",
    "df['HOW_MANY_TIMES_ARRESTED_IN_PAST_30_DAYS'] = df['HOW_MANY_TIMES_ARRESTED_IN_PAST_30_DAYS'].fillna(-9)\n",
    "\n",
    "#Creating function to create column Incarcerated\n",
    "def Incarcerated (x):\n",
    "    if x == 'Patient reports zero arrests':\n",
    "        return 0\n",
    "    elif x == 'Specify number of times':\n",
    "        return 1\n",
    "    elif x == 'REFUSED':\n",
    "        return -7\n",
    "    elif x == -9:\n",
    "        return -9\n",
    "    else:\n",
    "        return -9\n",
    "    \n",
    "#Creating column Incarcerated via applying the function Incarcerated (x)\n",
    "df['Incarcerated'] = df['HOW_MANY_TIMES_ARRESTED_IN_PAST_30_DAYS'].apply(lambda x:Incarcerated (x))"
   ]
  },
  {
   "cell_type": "code",
   "execution_count": 71,
   "id": "97fe4a97",
   "metadata": {},
   "outputs": [],
   "source": [
    "#Replacing null values with -9\n",
    "df['CURRENTLY_AWAITING_CHARGES_TRIAL_OR_SENTENCING'] = df['CURRENTLY_AWAITING_CHARGES_TRIAL_OR_SENTENCING'].fillna(-9)\n",
    "\n",
    "#Creating function to create column AwaitTrial\n",
    "def Await_Trial (x):\n",
    "    if x == 'Yes':\n",
    "        return 1\n",
    "    elif x == 'No':\n",
    "        return 0\n",
    "    elif x == 'REFUSED':\n",
    "        return -7\n",
    "    elif x == -9:\n",
    "        return -9\n",
    "    \n",
    "#Creating column AwaitTrial via applying the function Await_Trial (x)\n",
    "df['AwaitTrial'] = df['CURRENTLY_AWAITING_CHARGES_TRIAL_OR_SENTENCING'].apply(lambda x:Await_Trial (x))"
   ]
  },
  {
   "cell_type": "code",
   "execution_count": 72,
   "id": "4edd167d",
   "metadata": {},
   "outputs": [],
   "source": [
    "#Replacing null values with -9\n",
    "df['CURRENTLY_ON_PAROLE_PROBATION_OR_PRETRIAL_SUPERVISION'] = df['CURRENTLY_ON_PAROLE_PROBATION_OR_PRETRIAL_SUPERVISION'].fillna(-9)\n",
    "\n",
    "#Creating function to create column ParoleProb\n",
    "def Parole_Prob (x):\n",
    "    if x == 'Probation':\n",
    "        return 1\n",
    "    elif x == 'Parole':\n",
    "        return 2\n",
    "    elif x == 'Intensive Pretrial Supervision':\n",
    "        return 3\n",
    "    elif x == 'No':\n",
    "        return 4\n",
    "    elif x == 'REFUSED':\n",
    "        return -7\n",
    "    elif x == -9:\n",
    "        return -9\n",
    "    \n",
    "#Creating column ParoleProb via applying the function Parole_Prob (x)\n",
    "df['ParoleProb'] = df['CURRENTLY_ON_PAROLE_PROBATION_OR_PRETRIAL_SUPERVISION'].apply(lambda x:Parole_Prob (x))"
   ]
  },
  {
   "cell_type": "code",
   "execution_count": 73,
   "id": "1801dbb0",
   "metadata": {},
   "outputs": [],
   "source": [
    "#Replacing null values with -9\n",
    "df['CURRENTLY_PARTICIPATE_IN_DRUG_COURT'] = df['CURRENTLY_PARTICIPATE_IN_DRUG_COURT'].fillna(-9)\n",
    "\n",
    "#Creating function to create column DrugCourtDeferredProsec\n",
    "def Drug_Court_DeferredProsec (x):\n",
    "    if x == 'Drug court program':\n",
    "        return 1\n",
    "    elif x == 'Deferred prosecution agreement, Drug court program':\n",
    "        return 2\n",
    "    elif x == 'No, neither of these':\n",
    "        return 3\n",
    "    elif x == 'REFUSED':\n",
    "        return -7\n",
    "    elif x == -9:\n",
    "        return -9\n",
    "    \n",
    "#Creating column DrugCourtDeferredProsec via applying the function Drug_Court_DeferredProsec (x\n",
    "df['DrugCourtDeferredProsec'] = df['CURRENTLY_PARTICIPATE_IN_DRUG_COURT'].apply(lambda x:Drug_Court_DeferredProsec (x))"
   ]
  },
  {
   "cell_type": "code",
   "execution_count": 74,
   "id": "8d0bfcf1",
   "metadata": {},
   "outputs": [],
   "source": [
    "#fill null values\n",
    "df['QUALITY_OF_LIFE_PAST_30_DAYS'] = df['QUALITY_OF_LIFE_PAST_30_DAYS'].fillna(-9)\n",
    "\n",
    "#Creating a function to create column LifeQuality\n",
    "def Life_Quality (x):\n",
    "    if x == 'Very poor':\n",
    "        return 1\n",
    "    elif x == 'Poor':\n",
    "        return 2\n",
    "    elif x == 'Neither poor nor good':\n",
    "        return 3\n",
    "    elif x == 'Good':\n",
    "        return 4\n",
    "    elif x == 'Very good':\n",
    "        return 5\n",
    "    elif x == 'REFUSED':\n",
    "        return -7\n",
    "    elif x == -9:\n",
    "        return -9\n",
    "    else:\n",
    "        return -9\n",
    "    \n",
    "#Creating column LifeQuality via applying the function Life_Quality (x)\n",
    "df['LifeQuality'] = df['QUALITY_OF_LIFE_PAST_30_DAYS'].apply(lambda x:Life_Quality (x))"
   ]
  },
  {
   "cell_type": "code",
   "execution_count": 75,
   "id": "f18f3462",
   "metadata": {},
   "outputs": [],
   "source": [
    "#Creating a dictionary to rename\n",
    "dict_rename = {'SERIOUS_DEPRESSION_NUMBER_OF_DAYS':'Depression','SERIOUS_ANXIETY_OR_TENSION_NUMBER_OF_DAYS':'Anxiety',\n",
    "               'HALLUCINATIONS_NUMBER_OF_DAYS':'Hallucinations','TROUBLE_UNDERSTANDING_CONCENTRATING_OR_REMEMBERING_NUMBER_OF_DAYS':'BrainFunction',\n",
    "               'VIOLENT_BEHAVIOR_NUMBER_OF_DAYS':'ViolentBehavior','ATTEMPTED_SUICIDE_NUMBER_OF_DAYS':'Suicide',\n",
    "               'MEDICATION_FOR_PSYCHOLOGICAL_PROBLEM_NUMBER_OF_DAYS':'PsycholEmotMedication'}\n",
    "#Rename\n",
    "df.rename(columns = dict_rename,inplace = True)\n",
    "\n",
    "#Creating variable\n",
    "col_fill = ['Depression','Anxiety','Hallucinations','BrainFunction','ViolentBehavior','Suicide','PsycholEmotMedication']\n",
    "\n",
    "#Replacing null values with -9\n",
    "df[col_fill] = df[col_fill].fillna(-9)\n",
    "\n",
    "#Replace -1 with 1\n",
    "df['ViolentBehavior'] = df['ViolentBehavior'].replace(-1,1)"
   ]
  },
  {
   "cell_type": "code",
   "execution_count": 76,
   "id": "9866cdd1",
   "metadata": {},
   "outputs": [],
   "source": [
    "#Replacing null values with -9\n",
    "df['HOW_BOTHERED_BY_PSYCHOLOGICAL_PROBLEMS_IN_PAST_30_DAYS'] = df['HOW_BOTHERED_BY_PSYCHOLOGICAL_PROBLEMS_IN_PAST_30_DAYS'].fillna(-9)\n",
    "\n",
    "#Creating function to create column PsycholEmotImpact\n",
    "def Psychol_Emot_Impact (x):\n",
    "    if x == 'Not at all':\n",
    "        return 1\n",
    "    elif x == 'Slightly':\n",
    "        return 2\n",
    "    elif x == 'Moderately':\n",
    "        return 3\n",
    "    elif x == 'Considerably':\n",
    "        return 4\n",
    "    elif x == 'Extremely':\n",
    "        return 5\n",
    "    elif x == 'NO REPORTED MENTAL HEALTH COMPLAINTS IN THE PAST 30 DAYS':\n",
    "        return 6\n",
    "    elif x == 'REFUSED':\n",
    "        return -7\n",
    "    elif x == -9:\n",
    "        return -9\n",
    "    \n",
    "#Renaming column to create column PsycholEmotImpact via applying the function Psychol_Emot_Impact (x)\n",
    "df['PsycholEmotImpact'] = df['HOW_BOTHERED_BY_PSYCHOLOGICAL_PROBLEMS_IN_PAST_30_DAYS'].apply(lambda x:Psychol_Emot_Impact (x))"
   ]
  },
  {
   "cell_type": "code",
   "execution_count": 77,
   "id": "613081a3",
   "metadata": {},
   "outputs": [],
   "source": [
    "# Creating substring\n",
    "df['WHERE_RECEIVED_MEDICAL_CARE_IN_PAST_30_DAYS'] = df['WHERE_RECEIVED_MEDICAL_CARE_IN_PAST_30_DAYS'].str.split(',').str[0]\n",
    "\n",
    "#Replacing null values with -9\n",
    "df['WHERE_RECEIVED_MEDICAL_CARE_IN_PAST_30_DAYS'] = df['WHERE_RECEIVED_MEDICAL_CARE_IN_PAST_30_DAYS'].fillna(-9)\n",
    "\n",
    "\n",
    "#Creating function to create column ReceivedMedCarePCP\n",
    "def Received_MedCare_PCP (x):\n",
    "    if x == 'Primary Care Provider':\n",
    "        return 1\n",
    "    elif x == -9:\n",
    "        return -9\n",
    "    else:\n",
    "        return 0\n",
    "    \n",
    "#Renaming column to create column ReceivedMedCarePCP via applying the function Received_MedCare_PCP (x)\n",
    "df['ReceivedMedCarePCP'] = df['WHERE_RECEIVED_MEDICAL_CARE_IN_PAST_30_DAYS'].apply(lambda x:Received_MedCare_PCP (x))"
   ]
  },
  {
   "cell_type": "code",
   "execution_count": 78,
   "id": "48e10c4f",
   "metadata": {},
   "outputs": [],
   "source": [
    "#Creating function to create column ReceivedMedCareUrgentCare\n",
    "def Received_Med_CareUrgentCare (x):\n",
    "    if x == 'Urgent Care':\n",
    "        return 1\n",
    "    elif x == -9:\n",
    "        return -9\n",
    "    else:\n",
    "        return 0\n",
    "\n",
    "    \n",
    "#Creating column ReceivedMedCarePCP via applying the function Received_Med_CareUrgentCare (x)\n",
    "df['ReceivedMedCareUrgentCare'] = df['WHERE_RECEIVED_MEDICAL_CARE_IN_PAST_30_DAYS'].apply(lambda x:Received_Med_CareUrgentCare (x))"
   ]
  },
  {
   "cell_type": "code",
   "execution_count": 79,
   "id": "fc91fbcf",
   "metadata": {},
   "outputs": [],
   "source": [
    "#Creating function to create column ReceivedMedCareED\n",
    "def Received_Med_CareED (x):\n",
    "    if  x == 'The Emergency Department':\n",
    "        return 1\n",
    "    elif x == -9:\n",
    "        return -9\n",
    "    else:\n",
    "        return 0\n",
    "    \n",
    "#Creating column ReceivedMedCareED via appying the function Received_Med_CareED (x)\n",
    "df['ReceivedMedCareED'] = df['WHERE_RECEIVED_MEDICAL_CARE_IN_PAST_30_DAYS'].apply(lambda x: Received_Med_CareED (x))"
   ]
  },
  {
   "cell_type": "code",
   "execution_count": 80,
   "id": "727989a7",
   "metadata": {},
   "outputs": [],
   "source": [
    "#Creating function to create column ReceivedMedCareSpecialist\n",
    "def Received_Med_CareSpecialist (x): \n",
    "    if x == 'A specialist doctor':\n",
    "        return 1\n",
    "    elif x == -9:\n",
    "        return -9\n",
    "    else:\n",
    "        return 0\n",
    "\n",
    "#Creating column ReceivedMedCareSpecialist via applying the function Received_Med_CareSpecialist (x)\n",
    "df['ReceivedMedCareSpecialist'] = df['WHERE_RECEIVED_MEDICAL_CARE_IN_PAST_30_DAYS'].apply(lambda x:Received_Med_CareSpecialist (x))"
   ]
  },
  {
   "cell_type": "code",
   "execution_count": 81,
   "id": "635e5375",
   "metadata": {},
   "outputs": [],
   "source": [
    "#Creating function to create column ReceivedMedCareNoCareSought\n",
    "def ReceivedMed_CareNo_CareSought (x):\n",
    "    if x == 'No care was sought':\n",
    "        return 1\n",
    "    elif x == -9:\n",
    "        return -9\n",
    "    else:\n",
    "        return 0\n",
    "    \n",
    "\n",
    "#Creating column ReceivedMedCareNoCareSought via applying the function ReceivedMed_CareNo_CareSought (x)\n",
    "df['ReceivedMedCareNoCareSought'] = df['WHERE_RECEIVED_MEDICAL_CARE_IN_PAST_30_DAYS'].apply(lambda x: ReceivedMed_CareNo_CareSought (x))"
   ]
  },
  {
   "cell_type": "code",
   "execution_count": 82,
   "id": "41c8d557",
   "metadata": {},
   "outputs": [],
   "source": [
    "#Creating function to create column ReceivedMedCareOther\n",
    "def Received_MedCare_Other (x):\n",
    "    if x == 'Other (SPECIFY)':\n",
    "        return 1\n",
    "    elif x == -9:\n",
    "        return -9\n",
    "    else:\n",
    "        return 0\n",
    "    \n",
    "#Creating column ReceivedMedCareOther via applying the function Received_MedCare_Other (x)\n",
    "df['ReceivedMedCareOther'] = df['WHERE_RECEIVED_MEDICAL_CARE_IN_PAST_30_DAYS'].apply(lambda x: Received_MedCare_Other (x))"
   ]
  },
  {
   "cell_type": "code",
   "execution_count": 83,
   "id": "e1c7deb0",
   "metadata": {},
   "outputs": [],
   "source": [
    "#Rename\n",
    "df.rename(columns = {'MEDICAL_CARE_OTHER':'ReceivedMedCareSpec'},inplace = True)\n",
    "\n",
    "#Renaming column to create column ReceivedMedCareSpec\n",
    "df['ReceivedMedCareSpec'] = df['ReceivedMedCareSpec'].str.title()"
   ]
  },
  {
   "cell_type": "code",
   "execution_count": 84,
   "id": "e662e5fa",
   "metadata": {},
   "outputs": [],
   "source": [
    "#Replacing null values with -9\n",
    "df['CURRENTLY_HAVE_HEALTH_INSURANCE'] = df['CURRENTLY_HAVE_HEALTH_INSURANCE'].fillna(-9)\n",
    "\n",
    "#Creating function to create column MedInsuranceStatus\n",
    "def Med_Insurance_Status (x):\n",
    "    if x == 'Yes':\n",
    "        return 1\n",
    "    elif x == -9:\n",
    "        return -9\n",
    "    elif x == 'REFUSED (GO TO NEXT SECTION)':\n",
    "        return -7\n",
    "    elif x == 'No (GO TO NEXT SECTION)':\n",
    "        return 0\n",
    "    \n",
    "\n",
    "#Creating column MedInsuranceStatus via applying the function Med_Insurance_Status (x)\n",
    "df['MedInsuranceStatus'] = df['CURRENTLY_HAVE_HEALTH_INSURANCE'].apply(lambda x: Med_Insurance_Status (x))"
   ]
  },
  {
   "cell_type": "code",
   "execution_count": 85,
   "id": "2ceb43d9",
   "metadata": {
    "scrolled": true
   },
   "outputs": [],
   "source": [
    "#Creating substrings\n",
    "df['TYPE_OF_INSURANCE'] = df['TYPE_OF_INSURANCE'].str.split(',').str[0]\n",
    "\n",
    "#Replacing null values with -9\n",
    "df['TYPE_OF_INSURANCE'] = df['TYPE_OF_INSURANCE'].fillna(-9)\n",
    "\n",
    "\n",
    "#Creating function to create column MedInsTypeMedicaid\n",
    "def MedIns_TypeMedicaid (x):\n",
    "    if x == 'Medicaid':\n",
    "        return 1\n",
    "    elif x == -9:\n",
    "        return -9\n",
    "    else:\n",
    "        return 0\n",
    "\n",
    "#Creating column MedInsTypeMedicaid via applying the function MedIns_TypeMedicaid (x)\n",
    "df['MedInsTypeMedicaid'] = df['TYPE_OF_INSURANCE'].apply(lambda x:MedIns_TypeMedicaid (x))"
   ]
  },
  {
   "cell_type": "code",
   "execution_count": 86,
   "id": "793335e0",
   "metadata": {},
   "outputs": [],
   "source": [
    "#Creating function to create column MedInsTypeMedicare\n",
    "def Med_Ins_TypeMedicare (x):\n",
    "    if x == 'Medicare':\n",
    "        return 1\n",
    "    elif x == -9:\n",
    "        return -9\n",
    "    else:\n",
    "        return 0\n",
    "\n",
    "#Creating column MedInsTypeMedicare via applying the function Med_Ins_TypeMedicare (x)\n",
    "df['MedInsTypeMedicare'] = df['TYPE_OF_INSURANCE'].apply(lambda x:Med_Ins_TypeMedicare (x))"
   ]
  },
  {
   "cell_type": "code",
   "execution_count": 87,
   "id": "9dc62b37",
   "metadata": {},
   "outputs": [],
   "source": [
    "#Creating function to create column MedInsTypePrivateOrEmployer\n",
    "def MedIns_Type_PrivateOrEmployer (x):\n",
    "    if x == 'Private Insurance or Employer Provided':\n",
    "        return 1\n",
    "    elif x == -9:\n",
    "        return -9\n",
    "    else:\n",
    "        return 0\n",
    "\n",
    "#Creating column MedInsTypePrivateOrEmployer via applying the function MedIns_Type_PrivateOrEmployer (x)\n",
    "df['MedInsTypePrivateOrEmployer'] = df['TYPE_OF_INSURANCE'].apply(lambda x:MedIns_Type_PrivateOrEmployer (x))"
   ]
  },
  {
   "cell_type": "code",
   "execution_count": 88,
   "id": "99cce965",
   "metadata": {},
   "outputs": [],
   "source": [
    "#Creating function to create MedInsTypeMilitary\n",
    "def MedIns_TypeMilitary (x):\n",
    "    if x == 'TRICARE':\n",
    "        return 1\n",
    "    elif x == -9:\n",
    "        return -9\n",
    "    else:\n",
    "        return 0\n",
    "\n",
    "#Creating column MedInsTypeMilitary via applying the function MedIns_TypeMilitary (x)\n",
    "df['MedInsTypeMilitary'] = df['TYPE_OF_INSURANCE'].apply(lambda x:MedIns_TypeMilitary (x))"
   ]
  },
  {
   "cell_type": "code",
   "execution_count": 89,
   "id": "7c9f3b14",
   "metadata": {},
   "outputs": [],
   "source": [
    "#Creating function to create MedInsTypeAssistanceProgram\n",
    "def MedIns_TypeAssistanceProgram (x):\n",
    "    if x == 'a medication assistance program':\n",
    "        return 1\n",
    "    elif x == -9:\n",
    "        return -9\n",
    "    else:\n",
    "        return 0\n",
    "\n",
    "#Creating column MedInsTypeAssistanceProgram via applying the function MedIns_TypeAssistanceProgram (x)\n",
    "df['MedInsTypeAssistanceProgram'] = df['TYPE_OF_INSURANCE'].apply(lambda x:MedIns_TypeAssistanceProgram (x))"
   ]
  },
  {
   "cell_type": "code",
   "execution_count": 90,
   "id": "158ea3f5",
   "metadata": {},
   "outputs": [],
   "source": [
    "#Creating function to create MedInsTypeOther\n",
    "def MedIns_TypeOther (x):\n",
    "    if x == 'Any other type of health insurance or health coverage plan (SPECIFY)':\n",
    "        return 1\n",
    "    elif x == -9:\n",
    "        return -9\n",
    "    else:\n",
    "        return 0\n",
    "\n",
    "#Creating column MedInsTypeOther via applying the function MedIns_TypeOther (x)\n",
    "df['MedInsTypeOther'] = df['TYPE_OF_INSURANCE'].apply(lambda x:MedIns_TypeOther (x))"
   ]
  },
  {
   "cell_type": "code",
   "execution_count": 91,
   "id": "c796c834",
   "metadata": {},
   "outputs": [],
   "source": [
    "#Rename columm\n",
    "df.rename(columns = {'INSURANCE_OTHER':'MedInsTypeSpec'},inplace = True)\n",
    "\n",
    "\n",
    "#Renaming column to create column MedInsTypeSpec\n",
    "df['MedInsTypeSpec'] = df['MedInsTypeSpec'].str.title()\n"
   ]
  },
  {
   "cell_type": "code",
   "execution_count": 92,
   "id": "9ca65b26",
   "metadata": {},
   "outputs": [],
   "source": [
    "#Replacing null values with -9\n",
    "df['ATTEND_VOLUNTARY_RECOVERY_SUPPORT_GROUPS_IN_PAST_30_DAYS'] = df['ATTEND_VOLUNTARY_RECOVERY_SUPPORT_GROUPS_IN_PAST_30_DAYS'].fillna(-9)\n",
    "\n",
    "#Creating function to create column AttendVoluntary\n",
    "def Attend_Voluntary (x):\n",
    "    if x == 'Yes':\n",
    "        return 1\n",
    "    elif x == 'No':\n",
    "        return 0\n",
    "    elif x == -9:\n",
    "        return -9\n",
    "    elif x == 'REFUSED':\n",
    "        return -7\n",
    "\n",
    "#Creating column AttendVoluntary via applying the function Attend_Voluntary (x)\n",
    "df['AttendVoluntary'] = df['ATTEND_VOLUNTARY_RECOVERY_SUPPORT_GROUPS_IN_PAST_30_DAYS'].apply(lambda x:Attend_Voluntary (x))"
   ]
  },
  {
   "cell_type": "code",
   "execution_count": 93,
   "id": "dc557713",
   "metadata": {},
   "outputs": [
    {
     "data": {
      "text/plain": [
       "-9         296\n",
       "Yes        249\n",
       "No          98\n",
       "REFUSED      2\n",
       "Name: ATTEND_VOLUNTARY_RECOVERY_SUPPORT_GROUPS_IN_PAST_30_DAYS, dtype: int64"
      ]
     },
     "execution_count": 93,
     "metadata": {},
     "output_type": "execute_result"
    }
   ],
   "source": [
    "df['ATTEND_VOLUNTARY_RECOVERY_SUPPORT_GROUPS_IN_PAST_30_DAYS'].value_counts()"
   ]
  },
  {
   "cell_type": "code",
   "execution_count": 94,
   "id": "13a00ad1",
   "metadata": {},
   "outputs": [
    {
     "data": {
      "text/plain": [
       "-9    296\n",
       " 1    249\n",
       " 0     98\n",
       "-7      2\n",
       "Name: AttendVoluntary, dtype: int64"
      ]
     },
     "execution_count": 94,
     "metadata": {},
     "output_type": "execute_result"
    }
   ],
   "source": [
    "df['AttendVoluntary'].value_counts()"
   ]
  },
  {
   "cell_type": "code",
   "execution_count": 95,
   "id": "97b89ca6",
   "metadata": {},
   "outputs": [],
   "source": [
    "#Renaming to create column AttendVoluntaryTimes\n",
    "df.rename(columns = {'HOW_MANY_TIMES':'AttendVoluntaryTimes'},inplace = True)\n",
    "df['AttendVoluntaryTimes'] = df['AttendVoluntaryTimes'].fillna(-9)"
   ]
  },
  {
   "cell_type": "code",
   "execution_count": 96,
   "id": "61f656bc",
   "metadata": {},
   "outputs": [],
   "source": [
    "#Replacing null values with -9\n",
    "df['INTERACT_WITH_SUPPORTIVE_FAMILY_FRIENDS_IN_PAST_30_DAYS'] = df['INTERACT_WITH_SUPPORTIVE_FAMILY_FRIENDS_IN_PAST_30_DAYS'].fillna(-9)\n",
    "\n",
    "#Creating function to create column InteractFamilyFriends\n",
    "def Interact_FamilyFriends (x):\n",
    "    if x == 'Yes':\n",
    "        return 1\n",
    "    elif x == 'No':\n",
    "        return 0\n",
    "    elif x == 'REFUSED':\n",
    "        return -7\n",
    "    elif x == -9:\n",
    "        return -9\n",
    "    \n",
    "#Creating column InteractFamilyFriends via applying the function Interact_FamilyFriends (x)\n",
    "df['InteractFamilyFriends'] = df['INTERACT_WITH_SUPPORTIVE_FAMILY_FRIENDS_IN_PAST_30_DAYS'].apply(lambda x:Interact_FamilyFriends (x))"
   ]
  },
  {
   "cell_type": "code",
   "execution_count": 97,
   "id": "679c53f1",
   "metadata": {},
   "outputs": [],
   "source": [
    "#Replacing null values with -9\n",
    "df['HOW_SATISFIED_WITH_PERSONAL_RELATIONSHIPS'] = df['HOW_SATISFIED_WITH_PERSONAL_RELATIONSHIPS'].fillna(-9)\n",
    "\n",
    "#Creating function to create column RelationshipSatisfaction\n",
    "def Relationship_Satisfaction (x):\n",
    "    if x == 'Very Dissatisfied':\n",
    "        return 5\n",
    "    elif x == 'Dissatisfied':\n",
    "        return 4\n",
    "    elif x == 'Neither Satisfied nor Dissatisfied':\n",
    "        return 3\n",
    "    elif x == 'Satisfied':\n",
    "        return 2\n",
    "    elif x == 'Very Satisfied':\n",
    "        return 1\n",
    "    elif x == 'REFUSED':\n",
    "        return -7\n",
    "    elif x == -9:\n",
    "        return -9\n",
    "    \n",
    "#Creating column RelationshipSatisfaction via applying the function Relationship_Satisfaction (x)\n",
    "df['RelationshipSatisfaction'] = df['HOW_SATISFIED_WITH_PERSONAL_RELATIONSHIPS'].apply(lambda x:Relationship_Satisfaction (x))"
   ]
  },
  {
   "cell_type": "code",
   "execution_count": 98,
   "id": "19b6ca66",
   "metadata": {},
   "outputs": [],
   "source": [
    "#Replacing null values with -9\n",
    "df['REALIZE_NEED_TO_CHANGE_SOCIAL_CONNECTIONS_IN_PAST_30_DAYS'] = df['REALIZE_NEED_TO_CHANGE_SOCIAL_CONNECTIONS_IN_PAST_30_DAYS'].fillna(-9)\n",
    "\n",
    "#Creating function to create column ChangeConnectionsPlaces\n",
    "def Change_Connections_Places (x):\n",
    "    if x == 'Yes':\n",
    "        return 1\n",
    "    elif x == 'No':\n",
    "        return 0\n",
    "    elif x == -9:\n",
    "        return -9\n",
    "    elif x == 'REFUSED':\n",
    "        return -7\n",
    "    \n",
    "#Creating column ChangeConnectionsPlaces via applyigng function Change_Connections_Places (x)\n",
    "df['ChangeConnectionsPlaces'] = df['REALIZE_NEED_TO_CHANGE_SOCIAL_CONNECTIONS_IN_PAST_30_DAYS'].apply(lambda x:Change_Connections_Places (x))"
   ]
  },
  {
   "cell_type": "code",
   "execution_count": 99,
   "id": "d775bc55",
   "metadata": {},
   "outputs": [],
   "source": [
    "# creating list object of columns that will be intentionally left blank\n",
    "blank_columns = ['CurrentSamhsaGrantFunding',\t'OtherFederalGrantFunding',\t'StateFunding',\n",
    "                 'ClientsPrivateInsurance',\t'MedicaidOrMedicare',\t'SBIRTTricare',\t'SBIRTOther',\n",
    "                 'SBIRTOtherSpec',\t'SBIRTClientScreen',\t'SBIRTScoreAUDIT',\t'SBIRTScoreCAGE',\n",
    "                 'SBIRTScoreDAST',\t'SBIRTScoreDAST10',\t'SBIRTScoreNIAAA',\t'SBIRTScoreASSIST',\n",
    "                 'SBIRTScoreOther1',\t'SBIRTScoreOther1Spec',\t'SBIRTScoreOther2',\n",
    "                 'SBIRTScoreOther2Spec',\t'SBIRTScoreOther3',\t'SBIRTScoreOther3Spec',\n",
    "                 'SBIRTContService',\t'BriefInterventionAssigned',\t'BriefTreatmentAssigned',\n",
    "                 'ReferralToTreatmentAssigned',\t'BriefIntervention',\t'BriefTreatment',\n",
    "                 'ReferralToTreatment',\t'SBIRTclasscode']\n",
    "\n",
    "df[blank_columns] = ''"
   ]
  },
  {
   "cell_type": "markdown",
   "id": "58009851",
   "metadata": {},
   "source": [
    "## Exporting GPRA 5"
   ]
  },
  {
   "cell_type": "code",
   "execution_count": 100,
   "id": "de58ca36",
   "metadata": {
    "scrolled": true
   },
   "outputs": [],
   "source": [
    "#Creating variable for GPRA 5\n",
    "GPRA5_STAR = df[['ClientID',\t'SchoolOrTrainingProgram',\t'Education',\n",
    "                 'EducationSpec',\t'EmployStatus',\t'EmployStatusSpec',\t'Employment',\n",
    "                 'EnoughMoneyFood',\t'EnoughMoneyClothing',\t'EnoughMoneyTransport',\t'EnoughMoneyRentHousing',\n",
    "                 'EnoughMoneyUtilities',\t'EnoughMoneyPhone',\t'EnoughMoneyChildcare',\t'EnoughMoneyHealthIns',\n",
    "                 'Income',\t'ArrestedDays',\t'Incarcerated',\t'AwaitTrial',\t'ParoleProb',\n",
    "                 'DrugCourtDeferredProsec',\t'LifeQuality',\t'Depression',\t'Anxiety',\n",
    "                 'Hallucinations',\t'BrainFunction',\t'ViolentBehavior',\t'Suicide',\n",
    "                 'PsycholEmotMedication',\t'PsycholEmotImpact',\t'ReceivedMedCarePCP',\n",
    "                 'ReceivedMedCareUrgentCare',\t'ReceivedMedCareED',\t'ReceivedMedCareSpecialist',\n",
    "                 'ReceivedMedCareNoCareSought',\t'ReceivedMedCareOther',\t'ReceivedMedCareSpec',\n",
    "                 'MedInsuranceStatus',\t'MedInsTypeMedicare',\t'MedInsTypeMedicaid',\n",
    "                 'MedInsTypePrivateOrEmployer',\t'MedInsTypeMilitary',\t'MedInsTypeAssistanceProgram',\n",
    "                 'MedInsTypeOther',\t'MedInsTypeSpec',\t'AttendVoluntary',\t'AttendVoluntaryTimes',\n",
    "                 'InteractFamilyFriends',\t'RelationshipSatisfaction',\t'ChangeConnectionsPlaces',\n",
    "                 'CurrentSamhsaGrantFunding',\t'OtherFederalGrantFunding',\t'StateFunding',\n",
    "                 'ClientsPrivateInsurance',\t'MedicaidOrMedicare',\t'SBIRTTricare',\t'SBIRTOther',\n",
    "                 'SBIRTOtherSpec',\t'SBIRTClientScreen',\t'SBIRTScoreAUDIT',\t'SBIRTScoreCAGE',\n",
    "                 'SBIRTScoreDAST',\t'SBIRTScoreDAST10',\t'SBIRTScoreNIAAA',\t'SBIRTScoreASSIST',\t'SBIRTScoreOther1',\n",
    "                 'SBIRTScoreOther1Spec',\t'SBIRTScoreOther2',\t'SBIRTScoreOther2Spec',\t'SBIRTScoreOther3',\n",
    "                 'SBIRTScoreOther3Spec',\t'SBIRTContService','BriefInterventionAssigned',\t'BriefTreatmentAssigned',\n",
    "                 'ReferralToTreatmentAssigned',\t'BriefIntervention',\t'BriefTreatment',\t'ReferralToTreatment',\n",
    "                 'SBIRTclasscode']]\n",
    "\n",
    "#Exporting GPRA 5\n",
    "GPRA5_STAR.to_csv('GPRA5_STAR.csv', index = False, header = True, encoding = 'utf-8')"
   ]
  }
 ],
 "metadata": {
  "kernelspec": {
   "display_name": "Python 3 (ipykernel)",
   "language": "python",
   "name": "python3"
  },
  "language_info": {
   "codemirror_mode": {
    "name": "ipython",
    "version": 3
   },
   "file_extension": ".py",
   "mimetype": "text/x-python",
   "name": "python",
   "nbconvert_exporter": "python",
   "pygments_lexer": "ipython3",
   "version": "3.11.4"
  }
 },
 "nbformat": 4,
 "nbformat_minor": 5
}
